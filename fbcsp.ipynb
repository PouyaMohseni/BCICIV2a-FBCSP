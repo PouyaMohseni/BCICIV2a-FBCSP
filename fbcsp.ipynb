{
 "cells": [
  {
   "cell_type": "markdown",
   "metadata": {},
   "source": [
    "# Filter Bank Common Spatial Pattern\n",
    "Attempt at implementing filter-bank common spatial filter (FBCSP) on BCI Competition IV 2a Dataset\n",
    "  \n",
    "**References:**   \n",
    "\n",
    "[1] Kai Keng Ang, Zheng Yang Chin, Haihong Zhang and Cuntai Guan, \"Filter Bank Common Spatial Pattern (FBCSP) in Brain-Computer Interface,\" 2008 IEEE International Joint Conference on Neural Networks (IEEE World Congress on Computational Intelligence), Hong Kong, 2008, pp. 2390-2397, doi: 10.1109/IJCNN.2008.4634130.    \n",
    "[2] Ang, K. K., Chin, Z. Y., Wang, C., Guan, C., & Zhang, H. (2012). Filter Bank Common Spatial Pattern Algorithm on BCI Competition IV Datasets 2a and 2b. Frontiers in Neuroscience, 6. doi: 10.3389/fnins.2012.00039"
   ]
  },
  {
   "cell_type": "markdown",
   "metadata": {},
   "source": [
    "# BCI Competition IV Dataset 2a (.npz data)\n",
    "Information Given in Documentation\n",
    "\n",
    "From the documentation it is known that:\n",
    "* 25 electrodes are used, first 22 are EEG, last 3 are EOG\n",
    "* Sampling frequency (fs) is 250Hz\n",
    "* 9 subjects\n",
    "* 9 run (run 1-3 are for eye movement, run 4-9 is MI)  \n",
    "  \n",
    "\n",
    "**-- Time Duration--**  \n",
    "1 trials                          = 7-8s  \n",
    "1 run              = 48 trials    = 336-384s  \n",
    "1 session = 6 runs = 288 trials   = 2016-2304s\n",
    "\n",
    "About the recording of eye movement\n",
    "* run 1 => 2 mins with eyes open\n",
    "* run 2 => 1 min with eyes closed\n",
    "* run 3 => 1 min with eye movements\n",
    "\n",
    "![timing-scheme-paradigm.png](./img/timing-scheme-paradigm.png) "
   ]
  },
  {
   "cell_type": "code",
   "execution_count": 4,
   "metadata": {},
   "outputs": [],
   "source": [
    "import numpy as np\n",
    "import pandas as pd\n",
    "import matplotlib.pyplot as plt"
   ]
  },
  {
   "cell_type": "markdown",
   "metadata": {},
   "source": [
    "# Loading dataset"
   ]
  },
  {
   "cell_type": "code",
   "execution_count": 1,
   "metadata": {},
   "outputs": [],
   "source": [
    "# First import the data\n",
    "\n",
    "# Number of subject, n + 1 for iteration purpose (there are 9 subjects)\n",
    "ns = 10\n",
    "\n",
    "# Creating dict to store original data and modified data\n",
    "# ori_data will serve as initial loaded data that will remain unchanged\n",
    "ori_data = dict()\n",
    "mod_data = dict() "
   ]
  },
  {
   "cell_type": "code",
   "execution_count": 2,
   "metadata": {},
   "outputs": [],
   "source": [
    "# function to count subject\n",
    "def subjectCounter(i):\n",
    "    return 'subject0{}'.format(i)"
   ]
  },
  {
   "cell_type": "code",
   "execution_count": 5,
   "metadata": {},
   "outputs": [],
   "source": [
    "# Iter over all data path then store them in sub0X variable\n",
    "for i in range(1, ns):\n",
    "    data_path = '../../datasets/BCICIV2a/A{:02d}T.npz'.format(i)\n",
    "    subj = subjectCounter(i)\n",
    "    \n",
    "    # Load EEG data from datapath and store into subj0X variabel then store into ori_dict\n",
    "    # Then also fetch 's' (EEG data) into mod_data\n",
    "    ori_data[subj] = np.load(data_path)\n",
    "    mod_data[subj] = {}\n",
    "    mod_data[subj]['raw_EEG'] = ori_data[subj]['s']\n",
    "    \n",
    "    # Remove last three EOG electrodes\n",
    "    mod_data[subj]['raw_EEG'] = np.delete(mod_data[subj]['raw_EEG'], np.s_[22:], 1)"
   ]
  },
  {
   "cell_type": "code",
   "execution_count": 6,
   "metadata": {},
   "outputs": [],
   "source": [
    "# Load the training data of all subjects\n",
    "\n",
    "# Iter over all data path then store them in sub0X variable\n",
    "for i in range(1, ns):\n",
    "    data_path = '../../datasets/BCICIV2a/A{:02d}T.npz'.format(i)\n",
    "    subject = 'subject{:02d}'.format(i)\n",
    "    \n",
    "    # Load EEG data from datapath and store into subj0X variabel then store into data dictionary\n",
    "    ori_data[subject] = np.load(data_path)"
   ]
  },
  {
   "cell_type": "code",
   "execution_count": 7,
   "metadata": {},
   "outputs": [
    {
     "name": "stdout",
     "output_type": "stream",
     "text": [
      "<class 'numpy.lib.npyio.NpzFile'>\n",
      "['s', 'etyp', 'epos', 'edur', 'artifacts']\n"
     ]
    }
   ],
   "source": [
    "# Peek into ori_data type and its keys \n",
    "print(type(ori_data['subject01']))\n",
    "print(ori_data['subject01'].files)"
   ]
  },
  {
   "cell_type": "code",
   "execution_count": 13,
   "metadata": {},
   "outputs": [
    {
     "data": {
      "text/plain": [
       "array([0, 1, 0, 0, 0, 0, 0, 0, 0, 0, 0, 0, 0, 0, 0, 0, 0, 0, 0, 0, 0, 0,\n",
       "       0, 0, 0, 1, 0, 0, 0, 0], dtype=uint8)"
      ]
     },
     "execution_count": 13,
     "metadata": {},
     "output_type": "execute_result"
    }
   ],
   "source": [
    "ori_data['subject01']['artifacts'].ravel()[20:50]"
   ]
  },
  {
   "cell_type": "markdown",
   "metadata": {},
   "source": [
    "Explanation regarding contents of the keys inside each subject data:\n",
    "* **s**: 's' contains continuous time-series recorded EEG signals are, shape of M x N array. Size may vary between subjects but N is fixed to 25, indicates 25 electrodes with 22 first EEG and 3 last EOG\n",
    "* **etype**: 'etyp' stands for event type which indicate event occurence, event code will be describe in subsequent table\n",
    "* **epos**: 'epos' stands for event position, denoting corresponding event begins at n-th sample at **'s'**\n",
    "* **edur**: 'edur' stands for event duration, denoting duration of corresponding event\n",
    "* **artifacts**: size of 288 x 1, 288 comes form 6 x 48, 6 runs where @run has 48 trials, @class has 12 trials"
   ]
  },
  {
   "cell_type": "code",
   "execution_count": 14,
   "metadata": {},
   "outputs": [],
   "source": [
    "# ori_data will contain original data that is the raw file\n",
    "# mod_data will contain modified original data"
   ]
  },
  {
   "cell_type": "code",
   "execution_count": 15,
   "metadata": {},
   "outputs": [
    {
     "data": {
      "text/plain": [
       "{'subject01': {},\n",
       " 'subject02': {},\n",
       " 'subject03': {},\n",
       " 'subject04': {},\n",
       " 'subject05': {},\n",
       " 'subject06': {},\n",
       " 'subject07': {},\n",
       " 'subject08': {},\n",
       " 'subject09': {}}"
      ]
     },
     "execution_count": 15,
     "metadata": {},
     "output_type": "execute_result"
    }
   ],
   "source": [
    "# Initialize 'subject0x' dict inside mod_data\n",
    "for i in range(1, ns):\n",
    "    subj = subjectCounter(i)\n",
    "    mod_data[subj] = {}\n",
    "    \n",
    "mod_data"
   ]
  },
  {
   "cell_type": "code",
   "execution_count": 16,
   "metadata": {},
   "outputs": [
    {
     "name": "stdout",
     "output_type": "stream",
     "text": [
      "Sample\tElectrodes\n",
      "(672528, 25)\n",
      "(677169, 25)\n",
      "(660530, 25)\n",
      "(600915, 25)\n",
      "(686120, 25)\n",
      "(678980, 25)\n",
      "(681071, 25)\n",
      "(675270, 25)\n",
      "(673328, 25)\n"
     ]
    }
   ],
   "source": [
    "# Peek into different shape of recorded data/'s' between subjects\n",
    "print('Sample\\tElectrodes')\n",
    "for i in range(1, ns):\n",
    "    subj_temp = subjectCounter(i)\n",
    "    print(ori_data[subj_temp]['s'].shape)"
   ]
  },
  {
   "cell_type": "code",
   "execution_count": 17,
   "metadata": {},
   "outputs": [],
   "source": [
    "# First extract the sample data from ori_data into mod_data\n",
    "for i in range(1, ns):\n",
    "    subj = subjectCounter(i)\n",
    "    mod_data[subj]['raw_EEG'] = ori_data[subj]['s']"
   ]
  },
  {
   "cell_type": "code",
   "execution_count": 18,
   "metadata": {},
   "outputs": [
    {
     "data": {
      "text/html": [
       "<div>\n",
       "<style scoped>\n",
       "    .dataframe tbody tr th:only-of-type {\n",
       "        vertical-align: middle;\n",
       "    }\n",
       "\n",
       "    .dataframe tbody tr th {\n",
       "        vertical-align: top;\n",
       "    }\n",
       "\n",
       "    .dataframe thead th {\n",
       "        text-align: right;\n",
       "    }\n",
       "</style>\n",
       "<table border=\"1\" class=\"dataframe\">\n",
       "  <thead>\n",
       "    <tr style=\"text-align: right;\">\n",
       "      <th></th>\n",
       "      <th>0</th>\n",
       "      <th>1</th>\n",
       "      <th>2</th>\n",
       "      <th>3</th>\n",
       "      <th>4</th>\n",
       "      <th>5</th>\n",
       "      <th>6</th>\n",
       "      <th>7</th>\n",
       "      <th>8</th>\n",
       "      <th>9</th>\n",
       "      <th>...</th>\n",
       "      <th>15</th>\n",
       "      <th>16</th>\n",
       "      <th>17</th>\n",
       "      <th>18</th>\n",
       "      <th>19</th>\n",
       "      <th>20</th>\n",
       "      <th>21</th>\n",
       "      <th>22</th>\n",
       "      <th>23</th>\n",
       "      <th>24</th>\n",
       "    </tr>\n",
       "  </thead>\n",
       "  <tbody>\n",
       "    <tr>\n",
       "      <th>0</th>\n",
       "      <td>-21.142578</td>\n",
       "      <td>-23.681641</td>\n",
       "      <td>-21.484375</td>\n",
       "      <td>-25.146484</td>\n",
       "      <td>-25.732422</td>\n",
       "      <td>-27.929688</td>\n",
       "      <td>-14.550781</td>\n",
       "      <td>-22.509766</td>\n",
       "      <td>-25.439453</td>\n",
       "      <td>-28.710938</td>\n",
       "      <td>...</td>\n",
       "      <td>-30.615234</td>\n",
       "      <td>-29.638672</td>\n",
       "      <td>-26.660156</td>\n",
       "      <td>-20.947266</td>\n",
       "      <td>-25.439453</td>\n",
       "      <td>-24.902344</td>\n",
       "      <td>-19.677734</td>\n",
       "      <td>31.738281</td>\n",
       "      <td>-13.671875</td>\n",
       "      <td>-43.945312</td>\n",
       "    </tr>\n",
       "    <tr>\n",
       "      <th>1</th>\n",
       "      <td>-21.923828</td>\n",
       "      <td>-23.925781</td>\n",
       "      <td>-24.316406</td>\n",
       "      <td>-25.341797</td>\n",
       "      <td>-26.074219</td>\n",
       "      <td>-25.244141</td>\n",
       "      <td>-16.064453</td>\n",
       "      <td>-22.753906</td>\n",
       "      <td>-28.320312</td>\n",
       "      <td>-29.248047</td>\n",
       "      <td>...</td>\n",
       "      <td>-31.054688</td>\n",
       "      <td>-30.712891</td>\n",
       "      <td>-26.123047</td>\n",
       "      <td>-22.998047</td>\n",
       "      <td>-27.099609</td>\n",
       "      <td>-26.367188</td>\n",
       "      <td>-23.339844</td>\n",
       "      <td>22.460938</td>\n",
       "      <td>-13.183594</td>\n",
       "      <td>-40.527344</td>\n",
       "    </tr>\n",
       "    <tr>\n",
       "      <th>2</th>\n",
       "      <td>-15.625000</td>\n",
       "      <td>-19.726562</td>\n",
       "      <td>-18.847656</td>\n",
       "      <td>-21.582031</td>\n",
       "      <td>-20.751953</td>\n",
       "      <td>-21.728516</td>\n",
       "      <td>-12.451172</td>\n",
       "      <td>-20.410156</td>\n",
       "      <td>-23.730469</td>\n",
       "      <td>-25.927734</td>\n",
       "      <td>...</td>\n",
       "      <td>-28.759766</td>\n",
       "      <td>-28.417969</td>\n",
       "      <td>-24.462891</td>\n",
       "      <td>-21.386719</td>\n",
       "      <td>-25.097656</td>\n",
       "      <td>-24.267578</td>\n",
       "      <td>-21.484375</td>\n",
       "      <td>33.691406</td>\n",
       "      <td>-8.300781</td>\n",
       "      <td>-38.574219</td>\n",
       "    </tr>\n",
       "    <tr>\n",
       "      <th>3</th>\n",
       "      <td>-16.699219</td>\n",
       "      <td>-13.720703</td>\n",
       "      <td>-20.361328</td>\n",
       "      <td>-20.849609</td>\n",
       "      <td>-24.169922</td>\n",
       "      <td>-22.021484</td>\n",
       "      <td>-10.986328</td>\n",
       "      <td>-16.357422</td>\n",
       "      <td>-25.585938</td>\n",
       "      <td>-24.951172</td>\n",
       "      <td>...</td>\n",
       "      <td>-27.783203</td>\n",
       "      <td>-28.857422</td>\n",
       "      <td>-25.537109</td>\n",
       "      <td>-19.335938</td>\n",
       "      <td>-24.316406</td>\n",
       "      <td>-24.511719</td>\n",
       "      <td>-17.919922</td>\n",
       "      <td>41.992188</td>\n",
       "      <td>-7.324219</td>\n",
       "      <td>-38.574219</td>\n",
       "    </tr>\n",
       "    <tr>\n",
       "      <th>4</th>\n",
       "      <td>-19.335938</td>\n",
       "      <td>-17.626953</td>\n",
       "      <td>-20.410156</td>\n",
       "      <td>-26.464844</td>\n",
       "      <td>-27.392578</td>\n",
       "      <td>-29.882812</td>\n",
       "      <td>-9.277344</td>\n",
       "      <td>-18.359375</td>\n",
       "      <td>-24.609375</td>\n",
       "      <td>-30.517578</td>\n",
       "      <td>...</td>\n",
       "      <td>-31.884766</td>\n",
       "      <td>-33.740234</td>\n",
       "      <td>-32.666016</td>\n",
       "      <td>-18.554688</td>\n",
       "      <td>-26.611328</td>\n",
       "      <td>-28.466797</td>\n",
       "      <td>-18.408203</td>\n",
       "      <td>37.109375</td>\n",
       "      <td>-15.136719</td>\n",
       "      <td>-49.804688</td>\n",
       "    </tr>\n",
       "  </tbody>\n",
       "</table>\n",
       "<p>5 rows × 25 columns</p>\n",
       "</div>"
      ],
      "text/plain": [
       "          0          1          2          3          4          5   \\\n",
       "0 -21.142578 -23.681641 -21.484375 -25.146484 -25.732422 -27.929688   \n",
       "1 -21.923828 -23.925781 -24.316406 -25.341797 -26.074219 -25.244141   \n",
       "2 -15.625000 -19.726562 -18.847656 -21.582031 -20.751953 -21.728516   \n",
       "3 -16.699219 -13.720703 -20.361328 -20.849609 -24.169922 -22.021484   \n",
       "4 -19.335938 -17.626953 -20.410156 -26.464844 -27.392578 -29.882812   \n",
       "\n",
       "          6          7          8          9   ...         15         16  \\\n",
       "0 -14.550781 -22.509766 -25.439453 -28.710938  ... -30.615234 -29.638672   \n",
       "1 -16.064453 -22.753906 -28.320312 -29.248047  ... -31.054688 -30.712891   \n",
       "2 -12.451172 -20.410156 -23.730469 -25.927734  ... -28.759766 -28.417969   \n",
       "3 -10.986328 -16.357422 -25.585938 -24.951172  ... -27.783203 -28.857422   \n",
       "4  -9.277344 -18.359375 -24.609375 -30.517578  ... -31.884766 -33.740234   \n",
       "\n",
       "          17         18         19         20         21         22  \\\n",
       "0 -26.660156 -20.947266 -25.439453 -24.902344 -19.677734  31.738281   \n",
       "1 -26.123047 -22.998047 -27.099609 -26.367188 -23.339844  22.460938   \n",
       "2 -24.462891 -21.386719 -25.097656 -24.267578 -21.484375  33.691406   \n",
       "3 -25.537109 -19.335938 -24.316406 -24.511719 -17.919922  41.992188   \n",
       "4 -32.666016 -18.554688 -26.611328 -28.466797 -18.408203  37.109375   \n",
       "\n",
       "          23         24  \n",
       "0 -13.671875 -43.945312  \n",
       "1 -13.183594 -40.527344  \n",
       "2  -8.300781 -38.574219  \n",
       "3  -7.324219 -38.574219  \n",
       "4 -15.136719 -49.804688  \n",
       "\n",
       "[5 rows x 25 columns]"
      ]
     },
     "execution_count": 18,
     "metadata": {},
     "output_type": "execute_result"
    }
   ],
   "source": [
    "# Visualizing sample_data inside subject01\n",
    "# You can see that it has 25 electrodes stored in columns\n",
    "pd.DataFrame(mod_data['subject01']['raw_EEG']).head()"
   ]
  },
  {
   "cell_type": "code",
   "execution_count": null,
   "metadata": {},
   "outputs": [],
   "source": []
  },
  {
   "cell_type": "markdown",
   "metadata": {},
   "source": [
    "## Bandpass Filtering\n",
    "The first stage employing a filter bank is to decompose EEG into multiple frequency pass band, using causal Chebysev Type II filter/ Butterworth Filter.  \n",
    "A total of 9 band-pass filters are used, namely, 4-8, 8-12, ... 36-40 Hz  \n",
    "These frequency ranges are used because they yielf a stable frequency response and cover range of 4-40 Hz"
   ]
  },
  {
   "cell_type": "code",
   "execution_count": 19,
   "metadata": {},
   "outputs": [],
   "source": [
    "# Band pass filter with butterworth filter\n",
    "from scipy.signal import butter, lfilter\n",
    "from scipy.signal import freqz"
   ]
  },
  {
   "cell_type": "code",
   "execution_count": 20,
   "metadata": {},
   "outputs": [],
   "source": [
    "def butter_bandpass_filter(signal, lowcut, highcut, fs, order=5):\n",
    "    nyq = 0.5 * fs\n",
    "    low = lowcut/nyq\n",
    "    high = highcut/nyq\n",
    "    b,a = butter(order, [low, high], btype='band')\n",
    "    y = lfilter(b, a, signal)\n",
    "    \n",
    "    return y, b, a"
   ]
  },
  {
   "cell_type": "markdown",
   "metadata": {},
   "source": [
    "### Practice\n",
    "Create arbitrary signal and using butterworth signal as band-pass filter"
   ]
  },
  {
   "cell_type": "code",
   "execution_count": 23,
   "metadata": {},
   "outputs": [],
   "source": [
    "# INPUT\n",
    "# sampling frequency\n",
    "fs = 500\n",
    "\n",
    "# time\n",
    "t = np.arange(0, 5, 1/fs)\n",
    "\n",
    "# Three signals with various freq\n",
    "x1 = np.sin(2 * np.pi * 6 * t)\n",
    "x2 = np.sin(2 * np.pi * 7 * t)\n",
    "x3 = np.sin(2 * np.pi * 50 * t)\n",
    "x = x1 + x2 + x3"
   ]
  },
  {
   "cell_type": "code",
   "execution_count": 26,
   "metadata": {},
   "outputs": [
    {
     "data": {
      "image/png": "[encoded data removed]",
      "text/plain": [
       "<Figure size 432x288 with 1 Axes>"
      ]
     },
     "metadata": {
      "needs_background": "light"
     },
     "output_type": "display_data"
    }
   ],
   "source": [
    "# Plot input\n",
    "plt.figure()\n",
    "plt.clf()\n",
    "plt.plot(t, x)\n",
    "plt.xlabel('time (seconds)')\n",
    "plt.show()"
   ]
  },
  {
   "cell_type": "code",
   "execution_count": 24,
   "metadata": {},
   "outputs": [],
   "source": [
    "# OUTPUT\n",
    "lowcut = 4\n",
    "highcut = 8\n",
    "y, b, a = butter_bandpass_filter(x, lowcut, highcut, fs, order=5)"
   ]
  },
  {
   "cell_type": "code",
   "execution_count": 25,
   "metadata": {},
   "outputs": [
    {
     "data": {
      "image/png": "[encoded data removed]",
      "text/plain": [
       "<Figure size 432x288 with 1 Axes>"
      ]
     },
     "metadata": {
      "needs_background": "light"
     },
     "output_type": "display_data"
    }
   ],
   "source": [
    "# Plot output\n",
    "plt.figure()\n",
    "plt.clf()\n",
    "plt.plot(t, y, label='Filtered signal (%g Hz)' %fs)\n",
    "plt.xlabel('time (seconds)')\n",
    "plt.grid(True)\n",
    "plt.show()"
   ]
  },
  {
   "cell_type": "code",
   "execution_count": null,
   "metadata": {},
   "outputs": [],
   "source": []
  },
  {
   "cell_type": "code",
   "execution_count": null,
   "metadata": {},
   "outputs": [],
   "source": []
  },
  {
   "cell_type": "code",
   "execution_count": null,
   "metadata": {},
   "outputs": [],
   "source": []
  },
  {
   "cell_type": "code",
   "execution_count": null,
   "metadata": {},
   "outputs": [],
   "source": []
  },
  {
   "cell_type": "code",
   "execution_count": null,
   "metadata": {},
   "outputs": [],
   "source": []
  },
  {
   "cell_type": "code",
   "execution_count": null,
   "metadata": {},
   "outputs": [],
   "source": []
  },
  {
   "cell_type": "code",
   "execution_count": null,
   "metadata": {},
   "outputs": [],
   "source": []
  },
  {
   "cell_type": "code",
   "execution_count": null,
   "metadata": {},
   "outputs": [],
   "source": []
  },
  {
   "cell_type": "code",
   "execution_count": null,
   "metadata": {},
   "outputs": [],
   "source": []
  },
  {
   "cell_type": "code",
   "execution_count": null,
   "metadata": {},
   "outputs": [],
   "source": []
  },
  {
   "cell_type": "code",
   "execution_count": null,
   "metadata": {},
   "outputs": [],
   "source": []
  },
  {
   "cell_type": "code",
   "execution_count": null,
   "metadata": {},
   "outputs": [],
   "source": []
  },
  {
   "cell_type": "code",
   "execution_count": null,
   "metadata": {},
   "outputs": [],
   "source": []
  },
  {
   "cell_type": "code",
   "execution_count": null,
   "metadata": {},
   "outputs": [],
   "source": []
  },
  {
   "cell_type": "code",
   "execution_count": null,
   "metadata": {},
   "outputs": [],
   "source": []
  }
 ],
 "metadata": {
  "kernelspec": {
   "display_name": "dems",
   "language": "python",
   "name": "dems"
  },
  "language_info": {
   "codemirror_mode": {
    "name": "ipython",
    "version": 3
   },
   "file_extension": ".py",
   "mimetype": "text/x-python",
   "name": "python",
   "nbconvert_exporter": "python",
   "pygments_lexer": "ipython3",
   "version": "3.7.9"
  }
 },
 "nbformat": 4,
 "nbformat_minor": 4
}
