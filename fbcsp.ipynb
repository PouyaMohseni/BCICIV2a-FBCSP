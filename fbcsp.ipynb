{
 "cells": [
  {
   "cell_type": "markdown",
   "metadata": {},
   "source": [
    "# Filter Bank Common Spatial Pattern\n",
    "Attempt at implementing filter-bank common spatial filter (FBCSP) on BCI Competition IV 2a Dataset\n",
    "  \n",
    "**References:**   \n",
    "\n",
    "[1] Kai Keng Ang, Zheng Yang Chin, Haihong Zhang and Cuntai Guan, \"Filter Bank Common Spatial Pattern (FBCSP) in Brain-Computer Interface,\" 2008 IEEE International Joint Conference on Neural Networks (IEEE World Congress on Computational Intelligence), Hong Kong, 2008, pp. 2390-2397, doi: 10.1109/IJCNN.2008.4634130.    \n",
    "[2] Ang, K. K., Chin, Z. Y., Wang, C., Guan, C., & Zhang, H. (2012). Filter Bank Common Spatial Pattern Algorithm on BCI Competition IV Datasets 2a and 2b. Frontiers in Neuroscience, 6. doi: 10.3389/fnins.2012.00039"
   ]
  },
  {
   "cell_type": "markdown",
   "metadata": {},
   "source": [
    "# BCI Competition IV Dataset 2a (.npz data)\n",
    "Information Given in Documentation\n",
    "\n",
    "From the documentation it is known that:\n",
    "* 25 electrodes are used, first 22 are EEG, last 3 are EOG\n",
    "* Sampling frequency (fs) is 250Hz\n",
    "* 9 subjects\n",
    "* 9 run (run 1-3 are for eye movement, run 4-9 is MI)  \n",
    "  \n",
    "\n",
    "**-- Time Duration--**  \n",
    "1 trials                          = 7-8s  \n",
    "1 run              = 48 trials    = 336-384s  \n",
    "1 session = 6 runs = 288 trials   = 2016-2304s\n",
    "\n",
    "About the recording of eye movement\n",
    "* run 1 => 2 mins with eyes open\n",
    "* run 2 => 1 min with eyes closed\n",
    "* run 3 => 1 min with eye movements\n",
    "\n",
    "![timing-scheme-paradigm.png](./img/timing-scheme-paradigm.png) "
   ]
  },
  {
   "cell_type": "code",
   "execution_count": 1,
   "metadata": {},
   "outputs": [],
   "source": [
    "import numpy as np\n",
    "import pandas as pd\n",
    "import matplotlib.pyplot as plt\n",
    "import os"
   ]
  },
  {
   "cell_type": "markdown",
   "metadata": {},
   "source": [
    "# Loading dataset"
   ]
  },
  {
   "cell_type": "code",
   "execution_count": 2,
   "metadata": {},
   "outputs": [],
   "source": [
    "dframe = pd.DataFrame"
   ]
  },
  {
   "cell_type": "code",
   "execution_count": 3,
   "metadata": {},
   "outputs": [],
   "source": [
    "# First import the data\n",
    "\n",
    "# Number of subject, n + 1 for iteration purpose (there are 9 subjects)\n",
    "ns = 10\n",
    "\n",
    "# Creating dict to store original data and modified data\n",
    "# ori_data will serve as initial loaded data that will remain unchanged\n",
    "# mod_data will contain modified original data\n",
    "ori_data = dict()\n",
    "mod_data = dict() "
   ]
  },
  {
   "cell_type": "code",
   "execution_count": 4,
   "metadata": {},
   "outputs": [],
   "source": [
    "# function to count subject\n",
    "def subject_counter(i):\n",
    "    return 'subject0{}'.format(i)"
   ]
  },
  {
   "cell_type": "code",
   "execution_count": 5,
   "metadata": {},
   "outputs": [],
   "source": [
    "# # Iter over all data path then store them in sub0X variable\n",
    "# for i in range(1, ns):\n",
    "#     data_path = os.path.join(os.getcwd(), 'datasets/A{:02d}T.npz'.format(i))\n",
    "#     subj = subject_counter(i)\n",
    "\n",
    "#     # Load EEG data from datapath and store into subj0X variabel then store into ori_dict\n",
    "#     # Then also fetch 's' (EEG data) into mod_data\n",
    "#     ori_data[subj] = np.load(data_path)\n",
    "#     mod_data[subj] = {}\n",
    "#     mod_data[subj]['raw_EEG'] = ori_data[subj]['s']\n",
    "    \n",
    "#     # Remove last three EOG electrodes (column 23, 24, 25)\n",
    "#     mod_data[subj]['raw_EEG'] = np.delete(mod_data[subj]['raw_EEG'], np.s_[22:], 1)"
   ]
  },
  {
   "cell_type": "code",
   "execution_count": 6,
   "metadata": {},
   "outputs": [],
   "source": [
    "# Load the training data of all subjects\n",
    "\n",
    "# Iter over all data path then store them in sub0X variable\n",
    "for i in range(1, ns):\n",
    "    data_path = os.path.join(os.getcwd(), 'datasets/A{:02d}T.npz'.format(i))\n",
    "    subject = 'subject{:02d}'.format(i)\n",
    "    \n",
    "    # Load EEG data from datapath and store into subj0X variabel then store into data dictionary\n",
    "    ori_data[subject] = np.load(data_path)"
   ]
  },
  {
   "cell_type": "code",
   "execution_count": 7,
   "metadata": {},
   "outputs": [
    {
     "name": "stdout",
     "output_type": "stream",
     "text": [
      "<class 'numpy.lib.npyio.NpzFile'>\n",
      "['s', 'etyp', 'epos', 'edur', 'artifacts']\n"
     ]
    }
   ],
   "source": [
    "# Peek into ori_data type and its keys \n",
    "print(type(ori_data['subject01']))\n",
    "print(ori_data['subject01'].files)"
   ]
  },
  {
   "cell_type": "code",
   "execution_count": 8,
   "metadata": {},
   "outputs": [
    {
     "data": {
      "text/plain": [
       "array([0, 1, 0, 0, 0, 0, 0, 0, 0, 0, 0, 0, 0, 0, 0, 0, 0, 0, 0, 0, 0, 0,\n",
       "       0, 0, 0, 1, 0, 0, 0, 0], dtype=uint8)"
      ]
     },
     "execution_count": 8,
     "metadata": {},
     "output_type": "execute_result"
    }
   ],
   "source": [
    "ori_data['subject01']['artifacts'].ravel()[20:50]"
   ]
  },
  {
   "cell_type": "markdown",
   "metadata": {},
   "source": [
    "Explanation regarding contents of the keys inside each subject data:\n",
    "* **s**: 's' contains continuous time-series recorded EEG signals are, shape of M x N array. Size may vary between subjects but N is fixed to 25, indicates 25 electrodes with 22 first EEG and 3 last EOG\n",
    "* **etype**: 'etyp' stands for event type which indicate event occurence, event code will be describe in subsequent table\n",
    "* **epos**: 'epos' stands for event position, denoting corresponding event begins at n-th sample at **'s'**\n",
    "* **edur**: 'edur' stands for event duration, denoting duration of corresponding event\n",
    "* **artifacts**: size of 288 x 1, 288 comes form 6 x 48, 6 runs where @run has 48 trials, @class has 12 trials"
   ]
  },
  {
   "cell_type": "code",
   "execution_count": 9,
   "metadata": {},
   "outputs": [],
   "source": [
    "# ori_data will contain original data that is the raw file\n",
    "# mod_data will contain modified original data\n",
    "\n",
    "# Initialize 'subject0x' dict inside mod_data\n",
    "for i in range(1, ns):\n",
    "    subj = subject_counter(i)\n",
    "    mod_data[subj] = {}"
   ]
  },
  {
   "cell_type": "code",
   "execution_count": 10,
   "metadata": {},
   "outputs": [
    {
     "name": "stdout",
     "output_type": "stream",
     "text": [
      "Sample\tElectrodes\n"
     ]
    },
    {
     "name": "stdout",
     "output_type": "stream",
     "text": [
      "(672528, 25)\n",
      "(677169, 25)\n",
      "(660530, 25)\n",
      "(600915, 25)\n",
      "(686120, 25)\n",
      "(678980, 25)\n",
      "(681071, 25)\n",
      "(675270, 25)\n",
      "(673328, 25)\n"
     ]
    }
   ],
   "source": [
    "# Peek into different shape of recorded data/'s' between subjects\n",
    "print('Sample\\tElectrodes')\n",
    "for i in range(1, ns):\n",
    "    subj_temp = subject_counter(i)\n",
    "    print(ori_data[subj_temp]['s'].shape)"
   ]
  },
  {
   "cell_type": "code",
   "execution_count": 11,
   "metadata": {},
   "outputs": [],
   "source": [
    "# First extract the sample data from ori_data into mod_data\n",
    "for i in range(1, ns):\n",
    "    subj = subject_counter(i)\n",
    "    mod_data[subj]['raw_EEG'] = ori_data[subj]['s']"
   ]
  },
  {
   "cell_type": "code",
   "execution_count": 12,
   "metadata": {},
   "outputs": [
    {
     "data": {
      "text/html": [
       "<div>\n",
       "<style scoped>\n",
       "    .dataframe tbody tr th:only-of-type {\n",
       "        vertical-align: middle;\n",
       "    }\n",
       "\n",
       "    .dataframe tbody tr th {\n",
       "        vertical-align: top;\n",
       "    }\n",
       "\n",
       "    .dataframe thead th {\n",
       "        text-align: right;\n",
       "    }\n",
       "</style>\n",
       "<table border=\"1\" class=\"dataframe\">\n",
       "  <thead>\n",
       "    <tr style=\"text-align: right;\">\n",
       "      <th></th>\n",
       "      <th>0</th>\n",
       "      <th>1</th>\n",
       "      <th>2</th>\n",
       "      <th>3</th>\n",
       "      <th>4</th>\n",
       "      <th>5</th>\n",
       "      <th>6</th>\n",
       "      <th>7</th>\n",
       "      <th>8</th>\n",
       "      <th>9</th>\n",
       "      <th>...</th>\n",
       "      <th>15</th>\n",
       "      <th>16</th>\n",
       "      <th>17</th>\n",
       "      <th>18</th>\n",
       "      <th>19</th>\n",
       "      <th>20</th>\n",
       "      <th>21</th>\n",
       "      <th>22</th>\n",
       "      <th>23</th>\n",
       "      <th>24</th>\n",
       "    </tr>\n",
       "  </thead>\n",
       "  <tbody>\n",
       "    <tr>\n",
       "      <th>0</th>\n",
       "      <td>-21.142578</td>\n",
       "      <td>-23.681641</td>\n",
       "      <td>-21.484375</td>\n",
       "      <td>-25.146484</td>\n",
       "      <td>-25.732422</td>\n",
       "      <td>-27.929688</td>\n",
       "      <td>-14.550781</td>\n",
       "      <td>-22.509766</td>\n",
       "      <td>-25.439453</td>\n",
       "      <td>-28.710938</td>\n",
       "      <td>...</td>\n",
       "      <td>-30.615234</td>\n",
       "      <td>-29.638672</td>\n",
       "      <td>-26.660156</td>\n",
       "      <td>-20.947266</td>\n",
       "      <td>-25.439453</td>\n",
       "      <td>-24.902344</td>\n",
       "      <td>-19.677734</td>\n",
       "      <td>31.738281</td>\n",
       "      <td>-13.671875</td>\n",
       "      <td>-43.945312</td>\n",
       "    </tr>\n",
       "    <tr>\n",
       "      <th>1</th>\n",
       "      <td>-21.923828</td>\n",
       "      <td>-23.925781</td>\n",
       "      <td>-24.316406</td>\n",
       "      <td>-25.341797</td>\n",
       "      <td>-26.074219</td>\n",
       "      <td>-25.244141</td>\n",
       "      <td>-16.064453</td>\n",
       "      <td>-22.753906</td>\n",
       "      <td>-28.320312</td>\n",
       "      <td>-29.248047</td>\n",
       "      <td>...</td>\n",
       "      <td>-31.054688</td>\n",
       "      <td>-30.712891</td>\n",
       "      <td>-26.123047</td>\n",
       "      <td>-22.998047</td>\n",
       "      <td>-27.099609</td>\n",
       "      <td>-26.367188</td>\n",
       "      <td>-23.339844</td>\n",
       "      <td>22.460938</td>\n",
       "      <td>-13.183594</td>\n",
       "      <td>-40.527344</td>\n",
       "    </tr>\n",
       "    <tr>\n",
       "      <th>2</th>\n",
       "      <td>-15.625000</td>\n",
       "      <td>-19.726562</td>\n",
       "      <td>-18.847656</td>\n",
       "      <td>-21.582031</td>\n",
       "      <td>-20.751953</td>\n",
       "      <td>-21.728516</td>\n",
       "      <td>-12.451172</td>\n",
       "      <td>-20.410156</td>\n",
       "      <td>-23.730469</td>\n",
       "      <td>-25.927734</td>\n",
       "      <td>...</td>\n",
       "      <td>-28.759766</td>\n",
       "      <td>-28.417969</td>\n",
       "      <td>-24.462891</td>\n",
       "      <td>-21.386719</td>\n",
       "      <td>-25.097656</td>\n",
       "      <td>-24.267578</td>\n",
       "      <td>-21.484375</td>\n",
       "      <td>33.691406</td>\n",
       "      <td>-8.300781</td>\n",
       "      <td>-38.574219</td>\n",
       "    </tr>\n",
       "    <tr>\n",
       "      <th>3</th>\n",
       "      <td>-16.699219</td>\n",
       "      <td>-13.720703</td>\n",
       "      <td>-20.361328</td>\n",
       "      <td>-20.849609</td>\n",
       "      <td>-24.169922</td>\n",
       "      <td>-22.021484</td>\n",
       "      <td>-10.986328</td>\n",
       "      <td>-16.357422</td>\n",
       "      <td>-25.585938</td>\n",
       "      <td>-24.951172</td>\n",
       "      <td>...</td>\n",
       "      <td>-27.783203</td>\n",
       "      <td>-28.857422</td>\n",
       "      <td>-25.537109</td>\n",
       "      <td>-19.335938</td>\n",
       "      <td>-24.316406</td>\n",
       "      <td>-24.511719</td>\n",
       "      <td>-17.919922</td>\n",
       "      <td>41.992188</td>\n",
       "      <td>-7.324219</td>\n",
       "      <td>-38.574219</td>\n",
       "    </tr>\n",
       "    <tr>\n",
       "      <th>4</th>\n",
       "      <td>-19.335938</td>\n",
       "      <td>-17.626953</td>\n",
       "      <td>-20.410156</td>\n",
       "      <td>-26.464844</td>\n",
       "      <td>-27.392578</td>\n",
       "      <td>-29.882812</td>\n",
       "      <td>-9.277344</td>\n",
       "      <td>-18.359375</td>\n",
       "      <td>-24.609375</td>\n",
       "      <td>-30.517578</td>\n",
       "      <td>...</td>\n",
       "      <td>-31.884766</td>\n",
       "      <td>-33.740234</td>\n",
       "      <td>-32.666016</td>\n",
       "      <td>-18.554688</td>\n",
       "      <td>-26.611328</td>\n",
       "      <td>-28.466797</td>\n",
       "      <td>-18.408203</td>\n",
       "      <td>37.109375</td>\n",
       "      <td>-15.136719</td>\n",
       "      <td>-49.804688</td>\n",
       "    </tr>\n",
       "  </tbody>\n",
       "</table>\n",
       "<p>5 rows × 25 columns</p>\n",
       "</div>"
      ],
      "text/plain": [
       "          0          1          2          3          4          5   \\\n",
       "0 -21.142578 -23.681641 -21.484375 -25.146484 -25.732422 -27.929688   \n",
       "1 -21.923828 -23.925781 -24.316406 -25.341797 -26.074219 -25.244141   \n",
       "2 -15.625000 -19.726562 -18.847656 -21.582031 -20.751953 -21.728516   \n",
       "3 -16.699219 -13.720703 -20.361328 -20.849609 -24.169922 -22.021484   \n",
       "4 -19.335938 -17.626953 -20.410156 -26.464844 -27.392578 -29.882812   \n",
       "\n",
       "          6          7          8          9   ...         15         16  \\\n",
       "0 -14.550781 -22.509766 -25.439453 -28.710938  ... -30.615234 -29.638672   \n",
       "1 -16.064453 -22.753906 -28.320312 -29.248047  ... -31.054688 -30.712891   \n",
       "2 -12.451172 -20.410156 -23.730469 -25.927734  ... -28.759766 -28.417969   \n",
       "3 -10.986328 -16.357422 -25.585938 -24.951172  ... -27.783203 -28.857422   \n",
       "4  -9.277344 -18.359375 -24.609375 -30.517578  ... -31.884766 -33.740234   \n",
       "\n",
       "          17         18         19         20         21         22  \\\n",
       "0 -26.660156 -20.947266 -25.439453 -24.902344 -19.677734  31.738281   \n",
       "1 -26.123047 -22.998047 -27.099609 -26.367188 -23.339844  22.460938   \n",
       "2 -24.462891 -21.386719 -25.097656 -24.267578 -21.484375  33.691406   \n",
       "3 -25.537109 -19.335938 -24.316406 -24.511719 -17.919922  41.992188   \n",
       "4 -32.666016 -18.554688 -26.611328 -28.466797 -18.408203  37.109375   \n",
       "\n",
       "          23         24  \n",
       "0 -13.671875 -43.945312  \n",
       "1 -13.183594 -40.527344  \n",
       "2  -8.300781 -38.574219  \n",
       "3  -7.324219 -38.574219  \n",
       "4 -15.136719 -49.804688  \n",
       "\n",
       "[5 rows x 25 columns]"
      ]
     },
     "execution_count": 12,
     "metadata": {},
     "output_type": "execute_result"
    }
   ],
   "source": [
    "# Visualizing sample_data inside subject01\n",
    "# You can see that it has 25 electrodes stored in columns\n",
    "pd.DataFrame(mod_data['subject01']['raw_EEG']).head()"
   ]
  },
  {
   "cell_type": "markdown",
   "metadata": {},
   "source": [
    "# Preprocessing"
   ]
  },
  {
   "cell_type": "code",
   "execution_count": 13,
   "metadata": {},
   "outputs": [],
   "source": [
    "# Removing last three EOG electrode using np.delete, store data as EEG_only to each subject dict\n",
    "for i in range(1, ns):\n",
    "    subj = subject_counter(i)\n",
    "    mod_data[subj]['raw_EEG'] = np.delete(mod_data[subj]['raw_EEG'], np.s_[22:], 1)"
   ]
  },
  {
   "cell_type": "markdown",
   "metadata": {},
   "source": [
    "## Bandpass Filtering\n",
    "The first stage employing a filter bank is to decompose EEG into multiple frequency pass band, using causal Chebysev Type II filter/ Butterworth Filter.  \n",
    "A total of 9 band-pass filters are used, namely, 4-8, 8-12, ... 36-40 Hz  \n",
    "These frequency ranges are used because they yielf a stable frequency response and cover range of 4-40 Hz"
   ]
  },
  {
   "cell_type": "code",
   "execution_count": 14,
   "metadata": {},
   "outputs": [],
   "source": [
    "# Band pass filter with butterworth filter\n",
    "from scipy.signal import butter, lfilter\n",
    "from scipy.signal import freqz"
   ]
  },
  {
   "cell_type": "code",
   "execution_count": 15,
   "metadata": {},
   "outputs": [],
   "source": [
    "def butter_bandpass_filter(signal, lowcut, highcut, fs, order=5):\n",
    "    nyq = 0.5 * fs\n",
    "    low = lowcut/nyq\n",
    "    high = highcut/nyq\n",
    "    b,a = butter(order, [low, high], btype='band')\n",
    "    y = lfilter(b, a, signal, axis=-1)\n",
    "    \n",
    "    return y"
   ]
  },
  {
   "cell_type": "markdown",
   "metadata": {},
   "source": [
    "### Practice\n",
    "Create arbitrary signal and using butterworth signal as band-pass filter"
   ]
  },
  {
   "cell_type": "code",
   "execution_count": 16,
   "metadata": {},
   "outputs": [],
   "source": [
    "# INPUT\n",
    "# sampling frequency\n",
    "fs = 500\n",
    "\n",
    "# time\n",
    "t = np.arange(0, 5, 1/fs)\n",
    "\n",
    "# Three signals with various freq\n",
    "x1 = np.sin(2 * np.pi * 6 * t)\n",
    "x2 = np.sin(2 * np.pi * 7 * t)\n",
    "x3 = np.sin(2 * np.pi * 50 * t)\n",
    "x = x1 + x2 + x3"
   ]
  },
  {
   "cell_type": "code",
   "execution_count": 17,
   "metadata": {},
   "outputs": [
    {
     "data": {
      "image/png": "[encoded data removed]",
      "text/plain": [
       "<Figure size 640x480 with 1 Axes>"
      ]
     },
     "metadata": {},
     "output_type": "display_data"
    }
   ],
   "source": [
    "# Plot input\n",
    "plt.figure()\n",
    "plt.clf()\n",
    "plt.plot(t, x)\n",
    "plt.xlabel('time (seconds)')\n",
    "plt.show()"
   ]
  },
  {
   "cell_type": "code",
   "execution_count": 18,
   "metadata": {},
   "outputs": [],
   "source": [
    "# OUTPUT\n",
    "lowcut = 4\n",
    "highcut = 8\n",
    "y= butter_bandpass_filter(x, lowcut, highcut, fs, order=5)"
   ]
  },
  {
   "cell_type": "code",
   "execution_count": 19,
   "metadata": {},
   "outputs": [
    {
     "data": {
      "image/png": "[encoded data removed]",
      "text/plain": [
       "<Figure size 640x480 with 1 Axes>"
      ]
     },
     "metadata": {},
     "output_type": "display_data"
    }
   ],
   "source": [
    "# Plot output\n",
    "plt.figure()\n",
    "plt.clf()\n",
    "plt.plot(t, y, label='Filtered signal (%g Hz)' %fs)\n",
    "plt.xlabel('time (seconds)')\n",
    "plt.grid(True)\n",
    "plt.show()"
   ]
  },
  {
   "cell_type": "markdown",
   "metadata": {},
   "source": [
    "### Filtering EEG signal with Butterworth Band-pass\n",
    "Following the steps mentioned in [1], there will be 8 band-pass filter with bandwidth of:\n",
    "1. 4-8Hz\n",
    "2. 8-12Hz\n",
    "3. 12-16Hz\n",
    "4. 16-20Hz\n",
    "5. 20-24Hz\n",
    "6. 24-28Hz\n",
    "7. 28-32Hz\n",
    "8. 32-36Hz\n",
    "9. 36-40Hz\n",
    "\n",
    "*Note*   \n",
    "Apply filter to the time-series axis, thus set 'raw_EEG' inside each subject to shape of N x T (i.e. electrodes x samples)"
   ]
  },
  {
   "cell_type": "code",
   "execution_count": 24,
   "metadata": {},
   "outputs": [
    {
     "name": "stdout",
     "output_type": "stream",
     "text": [
      "(22, 672528)\n",
      "(22, 677169)\n",
      "(22, 660530)\n",
      "(22, 600915)\n",
      "(22, 686120)\n",
      "(22, 678980)\n",
      "(22, 681071)\n",
      "(22, 675270)\n",
      "(22, 673328)\n"
     ]
    }
   ],
   "source": [
    "# Transpose all 'raw_EEG' data\n",
    "for i in range(1, ns):\n",
    "    subj = subject_counter(i)\n",
    "    \n",
    "    while mod_data[subj]['raw_EEG'].shape[0] != 22:\n",
    "        mod_data[subj]['raw_EEG'] = mod_data[subj]['raw_EEG'].T\n",
    "    \n",
    "    print(mod_data[subj]['raw_EEG'].shape)"
   ]
  },
  {
   "cell_type": "code",
   "execution_count": 25,
   "metadata": {},
   "outputs": [],
   "source": [
    "# # Create new key 'EEG_filtered' to store filtered EEG of each subject\n",
    "# for i in range(1, ns):\n",
    "#     mod_data"
   ]
  },
  {
   "cell_type": "code",
   "execution_count": 27,
   "metadata": {},
   "outputs": [],
   "source": [
    "# Create function that could bandpass filtered one subject\n",
    "def butter_bandpass_one_subject(data, subj, lowcut, highcut, fs, interval=None):\n",
    "    print('Processing ', subj)\n",
    "    \n",
    "    # Create new key 'EEG_filtered' to store filtered EEG of each subject\n",
    "    data[subj]['EEG_filtered'] = {}\n",
    "    \n",
    "    # Current raw EEG\n",
    "    temp_raw_EEG = data[subj]['raw_EEG']\n",
    "    \n",
    "    if interval is not None:\n",
    "        startband = np.arange(lowcut, highcut, step = interval)\n",
    "        \n",
    "        for start in startband:\n",
    "            # This will be new key inside the EEG_filtered\n",
    "            band = \"{:02d}_{:02d}\".format(start, start+interval)\n",
    "            \n",
    "            print('Filtering through {} Hz band'.format(band))\n",
    "            # Bandpass filtering\n",
    "            data[subj]['EEG_filtered'][band] = {}\n",
    "            data[subj]['EEG_filtered'][band]['EEG_all'] = butter_bandpass_filter(temp_raw_EEG, start, start+interval, fs)\n",
    "            \n",
    "    else:\n",
    "        # This will be new key inside the EEG_filtered\n",
    "        band = \"{:02d}_{:02d}\".format(lowcut, highcut)\n",
    "        \n",
    "        data[subj]['EEG_filtered'][band]['EEG_all'] = butter_bandpass_filter(temp_raw_EEG, lowcut, highcut, fs)"
   ]
  },
  {
   "cell_type": "code",
   "execution_count": 28,
   "metadata": {},
   "outputs": [
    {
     "name": "stdout",
     "output_type": "stream",
     "text": [
      "Processing  subject01\n",
      "Filtering through 04_08 Hz band\n",
      "Filtering through 08_12 Hz band\n",
      "Filtering through 12_16 Hz band\n",
      "Filtering through 16_20 Hz band\n",
      "Filtering through 20_24 Hz band\n",
      "Filtering through 24_28 Hz band\n",
      "Filtering through 28_32 Hz band\n",
      "Filtering through 32_36 Hz band\n",
      "Filtering through 36_40 Hz band\n",
      "\n",
      "Processing  subject02\n",
      "Filtering through 04_08 Hz band\n",
      "Filtering through 08_12 Hz band\n",
      "Filtering through 12_16 Hz band\n",
      "Filtering through 16_20 Hz band\n",
      "Filtering through 20_24 Hz band\n",
      "Filtering through 24_28 Hz band\n",
      "Filtering through 28_32 Hz band\n",
      "Filtering through 32_36 Hz band\n",
      "Filtering through 36_40 Hz band\n",
      "\n",
      "Processing  subject03\n",
      "Filtering through 04_08 Hz band\n",
      "Filtering through 08_12 Hz band\n",
      "Filtering through 12_16 Hz band\n",
      "Filtering through 16_20 Hz band\n",
      "Filtering through 20_24 Hz band\n",
      "Filtering through 24_28 Hz band\n",
      "Filtering through 28_32 Hz band\n",
      "Filtering through 32_36 Hz band\n",
      "Filtering through 36_40 Hz band\n",
      "\n"
     ]
    }
   ],
   "source": [
    "# Banpass filtering all subject \n",
    "lowcut=4\n",
    "highcut=40\n",
    "fs = 250\n",
    "\n",
    "# Iterate over all subjects\n",
    "for i in range(1, 4):\n",
    "    subj = subject_counter(i)\n",
    "    butter_bandpass_one_subject(mod_data, subj, lowcut, highcut, fs, interval=4)\n",
    "    print('')"
   ]
  },
  {
   "cell_type": "markdown",
   "metadata": {},
   "source": [
    "## Taking EEG data corresponds to left and right class\n",
    "This work will only clasify two class, left and right hand, meanwhile the data contains four class,  \n",
    "thus the goal here is to make band-filtered EEG left and right of each class of shape T x C x N, where  \n",
    "T = trial, C = channel, N = sample"
   ]
  },
  {
   "cell_type": "code",
   "execution_count": 29,
   "metadata": {},
   "outputs": [],
   "source": [
    "# First take the position of left and right class\n",
    "left_class_code = 769\n",
    "right_class_code = 770\n",
    "\n",
    "for i in range(1, ns):\n",
    "    subj = subject_counter(i)\n",
    "    \n",
    "    mod_data[subj]['left_pos'] = ori_data[subj]['epos'][ori_data[subj]['etyp'] == left_class_code]\n",
    "    mod_data[subj]['right_pos'] = ori_data[subj]['epos'][ori_data[subj]['etyp'] == right_class_code]"
   ]
  },
  {
   "cell_type": "code",
   "execution_count": 30,
   "metadata": {},
   "outputs": [
    {
     "name": "stdout",
     "output_type": "stream",
     "text": [
      "Processing  subject01\n",
      "Processing  subject02\n",
      "Processing  subject03\n"
     ]
    }
   ],
   "source": [
    "# Now take EEG data within [0.5 3.5] seconds after cue onset position of each class\n",
    "start = 0.5\n",
    "end = 3.5\n",
    "\n",
    "for i in range(1, 4):\n",
    "    subj = subject_counter(i)\n",
    "    print('Processing ', subj)\n",
    "    # Temporary variable of left and right pos    \n",
    "    temp_pos_left = mod_data[subj]['left_pos']\n",
    "    temp_pos_right = mod_data[subj]['right_pos']\n",
    " \n",
    "    for band in mod_data[subj]['EEG_filtered'].keys():\n",
    "        temp_EEG_all = mod_data[subj]['EEG_filtered'][band]['EEG_all']\n",
    "        temp_EEG_left = []\n",
    "        temp_EEG_right = []\n",
    "        \n",
    "        # LEFT\n",
    "        for j in range(len(temp_pos_left)):\n",
    "            temp_EEG_left.append(temp_EEG_all[:, temp_pos_left[j] + int(start*fs) : temp_pos_left[j] + int(end*fs)])\n",
    "        mod_data[subj]['EEG_filtered'][band]['EEG_left'] = np.array(temp_EEG_left)\n",
    "        \n",
    "        # RIGHT\n",
    "        for j in range(len(temp_pos_right)):\n",
    "            temp_EEG_right.append(temp_EEG_all[:, temp_pos_right[j] + int(start*fs) : temp_pos_right[j] + int(end*fs)])\n",
    "        mod_data[subj]['EEG_filtered'][band]['EEG_right'] = np.array(temp_EEG_right)"
   ]
  },
  {
   "cell_type": "markdown",
   "metadata": {},
   "source": [
    "# Train/Test Data Split"
   ]
  },
  {
   "cell_type": "code",
   "execution_count": 31,
   "metadata": {},
   "outputs": [],
   "source": [
    "def split_EEG_one_class(EEG_one_class, percent_train=0.8):\n",
    "    '''\n",
    "    split_EEG_one_class will receive EEG data of one class, with size of T x N x M, where\n",
    "    T = number of trial\n",
    "    N = number of electrodes\n",
    "    M = sample number\n",
    "    \n",
    "    INPUT:\n",
    "    EEG_data_one_class: the data of one class of EEG data\n",
    "    \n",
    "    percent_train: allocation percentage of training data, default is 0.8\n",
    "    \n",
    "    OUTPUT:\n",
    "    EEG_train: EEG data for training\n",
    "    \n",
    "    EEG_test: EEG data for test\n",
    "    \n",
    "    Both have type of np.arrray dimension of T x M x N\n",
    "    '''\n",
    "\n",
    "    # Number of all trials\n",
    "    n = EEG_one_class.shape[0]\n",
    "    \n",
    "    n_tr = round(n*percent_train)\n",
    "    n_te = n - n_tr\n",
    "    \n",
    "    EEG_train = EEG_one_class[:n_tr]\n",
    "    EEG_test = EEG_one_class[n_tr:n_tr+n_te]\n",
    "        \n",
    "    return EEG_train, EEG_test"
   ]
  },
  {
   "cell_type": "code",
   "execution_count": 32,
   "metadata": {},
   "outputs": [],
   "source": [
    "# Iterate over all subjects\n",
    "for i in range(1, 4):\n",
    "    \n",
    "    subj = subject_counter(i)\n",
    "    \n",
    "    # Iterate over all bands\n",
    "    for band in mod_data[subj]['EEG_filtered'].keys():\n",
    "        \n",
    "        # Temporary variable for left and right class of each band\n",
    "        temp_EEG_left = mod_data[subj]['EEG_filtered'][band]['EEG_left']\n",
    "        temp_EEG_right = mod_data[subj]['EEG_filtered'][band]['EEG_right']\n",
    "\n",
    "        # Temporary variable to access each band\n",
    "        temp_filt = mod_data[subj]['EEG_filtered'][band]\n",
    "        \n",
    "        temp_filt['EEG_left_train'], temp_filt['EEG_left_test'] = split_EEG_one_class(temp_EEG_left, 0.8)\n",
    "        temp_filt['EEG_right_train'], temp_filt['EEG_right_test'] = split_EEG_one_class(temp_EEG_right, 0.8)  "
   ]
  },
  {
   "cell_type": "code",
   "execution_count": 33,
   "metadata": {},
   "outputs": [
    {
     "data": {
      "text/plain": [
       "dict_keys(['EEG_all', 'EEG_left', 'EEG_right', 'EEG_left_train', 'EEG_left_test', 'EEG_right_train', 'EEG_right_test'])"
      ]
     },
     "execution_count": 33,
     "metadata": {},
     "output_type": "execute_result"
    }
   ],
   "source": [
    "mod_data['subject01']['EEG_filtered']['04_08'].keys()"
   ]
  },
  {
   "cell_type": "markdown",
   "metadata": {},
   "source": [
    "# CSP\n",
    "This step will perform CSP on each band of each subject"
   ]
  },
  {
   "cell_type": "code",
   "execution_count": 34,
   "metadata": {},
   "outputs": [],
   "source": [
    "# For all subject create new keys to store all result in CSP step\n",
    "for i in range(1, ns):\n",
    "    subj = subject_counter(i)\n",
    "    \n",
    "    mod_data[subj]['CSP'] = {}"
   ]
  },
  {
   "cell_type": "markdown",
   "metadata": {},
   "source": [
    "## Covariance and Composite Covariance"
   ]
  },
  {
   "cell_type": "code",
   "execution_count": 35,
   "metadata": {},
   "outputs": [],
   "source": [
    "def compute_cov(EEG_data):\n",
    "    '''\n",
    "    INPUT:\n",
    "    EEG_data : EEG_data in shape T x N x S\n",
    "    \n",
    "    OUTPUT:\n",
    "    avg_cov : covariance matrix of averaged over all trials\n",
    "    '''\n",
    "    cov = []\n",
    "    for i in range(EEG_data.shape[0]):\n",
    "        cov.append(EEG_data[i]@EEG_data[i].T/np.trace(EEG_data[i]@EEG_data[i].T))\n",
    "        \n",
    "    cov = np.mean(np.array(cov), 0)\n",
    "    \n",
    "    return cov"
   ]
  },
  {
   "cell_type": "code",
   "execution_count": 36,
   "metadata": {},
   "outputs": [],
   "source": [
    "# Iterate over all subjects\n",
    "for i in range(1, 4):\n",
    "    \n",
    "    subj = subject_counter(i)\n",
    "    \n",
    "    # Iterate over all bands\n",
    "    for band in mod_data[subj]['EEG_filtered'].keys():\n",
    "        \n",
    "        # New key to store result\n",
    "        temp_band = mod_data[subj]['CSP'][band] = {}\n",
    "        \n",
    "        # Compute left and right covariance\n",
    "        # LEFT\n",
    "        temp_band['cov_left'] = compute_cov(mod_data[subj]['EEG_filtered'][band]['EEG_left_train'])\n",
    "        \n",
    "        # RIGHT\n",
    "        temp_band['cov_right'] = compute_cov(mod_data[subj]['EEG_filtered'][band]['EEG_right_train'])\n",
    "        \n",
    "        # Add covariance of left and right class as composite covariance\n",
    "        temp_band['cov_comp'] = temp_band['cov_left'] + temp_band['cov_right']"
   ]
  },
  {
   "cell_type": "code",
   "execution_count": 37,
   "metadata": {},
   "outputs": [],
   "source": [
    "temp1 = mod_data['subject03']['CSP']['04_08']['cov_left']\n",
    "temp2 = mod_data['subject03']['CSP']['04_08']['cov_right']\n",
    "temp3 = mod_data['subject03']['CSP']['04_08']['cov_comp']"
   ]
  },
  {
   "cell_type": "markdown",
   "metadata": {},
   "source": [
    "## White Matrix (P)"
   ]
  },
  {
   "cell_type": "code",
   "execution_count": 38,
   "metadata": {},
   "outputs": [],
   "source": [
    "# Create new keys for result in whitening step\n",
    "for i in range(1, 4):\n",
    "    subj = subject_counter(i)\n",
    "    \n",
    "    for band in mod_data[subj]['EEG_filtered'].keys():\n",
    "        mod_data[subj]['CSP'][band]['whitening'] = {}"
   ]
  },
  {
   "cell_type": "code",
   "execution_count": 39,
   "metadata": {},
   "outputs": [],
   "source": [
    "from scipy.linalg import sqrtm\n",
    "from scipy.linalg import inv"
   ]
  },
  {
   "cell_type": "code",
   "execution_count": 40,
   "metadata": {},
   "outputs": [],
   "source": [
    "def decompose_cov(avg_cov):\n",
    "    '''\n",
    "    This function will decompose average covariance matrix of one class of each subject into \n",
    "    eigenvalues denoted by lambda and eigenvector denoted by V\n",
    "    Both will be in descending order\n",
    "    \n",
    "    Parameter:\n",
    "    avgCov = the averaged covariance of one class\n",
    "    \n",
    "    Return:\n",
    "    λ_dsc and V_dsc, i.e. eigenvalues and eigenvector in descending order\n",
    "    \n",
    "    '''\n",
    "    λ, V = np.linalg.eig(avg_cov)\n",
    "    λ_dsc = np.sort(λ)[::-1] # Sort eigenvalue descending order, default is ascending order sort\n",
    "    idx_dsc = np.argsort(λ)[::-1] # Find index in descending order\n",
    "    V_dsc = V[:, idx_dsc] # Sort eigenvectors descending order\n",
    "    λ_dsc = np.diag(λ_dsc) # Diagonalize λ_dsc\n",
    "    \n",
    "    return λ_dsc, V_dsc"
   ]
  },
  {
   "cell_type": "code",
   "execution_count": 41,
   "metadata": {},
   "outputs": [],
   "source": [
    "def white_matrix(λ_dsc, V_dsc):\n",
    "    '''\n",
    "    '''\n",
    "    λ_dsc_sqr = sqrtm(inv(λ_dsc))\n",
    "    P = (λ_dsc_sqr)@(V_dsc.T)\n",
    "    \n",
    "    return P"
   ]
  },
  {
   "cell_type": "code",
   "execution_count": 42,
   "metadata": {},
   "outputs": [],
   "source": [
    "# Iterate over all subject compute whitening matrix\n",
    "for i in range(1, 4):\n",
    "    subj = subject_counter(i)\n",
    "    \n",
    "    for band in mod_data[subj]['EEG_filtered'].keys():\n",
    "        \n",
    "        temp_whitening = mod_data[subj]['CSP'][band]['whitening']\n",
    "\n",
    "        temp_cov = mod_data[subj]['CSP'][band]['cov_comp']\n",
    "\n",
    "        # Decomposing composite covariance into eigenvector and eigenvalue\n",
    "        temp_whitening['eigval'], temp_whitening['eigvec'] = decompose_cov(temp_cov)\n",
    "\n",
    "        # White matrix\n",
    "        temp_whitening['P'] = white_matrix(temp_whitening['eigval'], temp_whitening['eigvec'])"
   ]
  },
  {
   "cell_type": "markdown",
   "metadata": {},
   "source": [
    "## Common Eigenvec from Sl and Sr\n",
    "In this step the Sl and Sr will not be stored, will only be used to compute each eigenvector"
   ]
  },
  {
   "cell_type": "code",
   "execution_count": 43,
   "metadata": {},
   "outputs": [],
   "source": [
    "# Create new keys for result in whitening step\n",
    "for i in range(1, 4):\n",
    "    subj = subject_counter(i)\n",
    "    \n",
    "    for band in mod_data[subj]['EEG_filtered'].keys():\n",
    "        mod_data[subj]['CSP'][band]['S_left'] = {}\n",
    "        mod_data[subj]['CSP'][band]['S_right'] = {}  "
   ]
  },
  {
   "cell_type": "code",
   "execution_count": 44,
   "metadata": {},
   "outputs": [],
   "source": [
    "def compute_S(avg_Cov, white):\n",
    "    '''\n",
    "    This function will compute S matrix, S = P * C * P.T\n",
    "\n",
    "    INPUT:\n",
    "    avg_Cov: averaged covariance of one class, dimension N x N, where N is number of electrodes\n",
    "    white: the whitening transformation matrix\n",
    "    \n",
    "    OUTPUT:\n",
    "    S\n",
    "    '''\n",
    "    S = white@avg_Cov@white.T\n",
    "    \n",
    "    return S"
   ]
  },
  {
   "cell_type": "code",
   "execution_count": 45,
   "metadata": {},
   "outputs": [],
   "source": [
    "def decompose_S(S_one_class, order='descending'):\n",
    "    '''\n",
    "    This function will decompose the S matrix of one class to get the eigen vector\n",
    "    Both eigenvector will be the same but in opposite order\n",
    "    \n",
    "    i.e the highest eigenvector in S left will be equal to lowest eigenvector in S right matrix \n",
    "    '''\n",
    "    # Decompose S\n",
    "    λ, B = np.linalg.eig(S_one_class)\n",
    "    \n",
    "    # Sort eigenvalues either descending or ascending\n",
    "    if order == 'ascending':\n",
    "        idx = λ.argsort() # Use this index to sort eigenvector smallest -> largest\n",
    "    elif order == 'descending':\n",
    "        idx = λ.argsort()[::-1] # Use this index to sort eigenvector largest -> smallest\n",
    "    else:\n",
    "        print('Wrong order input')\n",
    "    \n",
    "    λ = λ[idx]\n",
    "    B = B[:, idx]\n",
    "    \n",
    "    return B, λ "
   ]
  },
  {
   "cell_type": "code",
   "execution_count": 46,
   "metadata": {},
   "outputs": [],
   "source": [
    "# Iterate over all subjects\n",
    "for i in range(1, 4):\n",
    "    subj = subject_counter(i)\n",
    "    \n",
    "    for band in mod_data[subj]['EEG_filtered'].keys():\n",
    "        # Where to access data\n",
    "        temp_P = mod_data[subj]['CSP'][band]['whitening']['P']\n",
    "        Cl = mod_data[subj]['CSP'][band]['cov_left']\n",
    "        Cr = mod_data[subj]['CSP'][band]['cov_right']\n",
    "\n",
    "        # Where to store result\n",
    "        temp_Sl = mod_data[subj]['CSP'][band]['S_left']\n",
    "        temp_Sr = mod_data[subj]['CSP'][band]['S_right']\n",
    "\n",
    "        # LEFT\n",
    "        Sl = compute_S(Cl, temp_P)\n",
    "        temp_Sl['eigvec'], temp_Sl['eigval'] = decompose_S(Sl, 'descending')\n",
    "\n",
    "        # RIGHT\n",
    "        Sr = compute_S(Cr, temp_P)\n",
    "        temp_Sr['eigvec'], temp_Sr['eigval'] = decompose_S(Sr, 'ascending')   "
   ]
  },
  {
   "cell_type": "code",
   "execution_count": 47,
   "metadata": {},
   "outputs": [],
   "source": [
    "# Checking eigenvalues\n",
    "temp1 = mod_data['subject02']['CSP'][band]['S_left']['eigval']\n",
    "temp2 = mod_data['subject02']['CSP'][band]['S_right']['eigval']"
   ]
  },
  {
   "cell_type": "code",
   "execution_count": 48,
   "metadata": {},
   "outputs": [
    {
     "data": {
      "text/plain": [
       "array([1., 1., 1., 1., 1., 1., 1., 1., 1., 1., 1., 1., 1., 1., 1., 1., 1.,\n",
       "       1., 1., 1., 1., 1.])"
      ]
     },
     "execution_count": 48,
     "metadata": {},
     "output_type": "execute_result"
    }
   ],
   "source": [
    "temp1 + temp2"
   ]
  },
  {
   "cell_type": "markdown",
   "metadata": {},
   "source": [
    "## Spatial Filter (W)\n",
    "Will compute the spatial filter of each subject of each band"
   ]
  },
  {
   "cell_type": "code",
   "execution_count": 49,
   "metadata": {},
   "outputs": [],
   "source": [
    "def spatial_filter(B, P):\n",
    "    '''\n",
    "    Will compute projection matrix using the following equation:\n",
    "    W = B' @ P\n",
    "    \n",
    "    INPUT:\n",
    "    B: the eigenvector either left or right class, choose one, size N x N, N is number of electrodes\n",
    "    P: white matrix in size of N x N \n",
    "    \n",
    "    OUTPUT:\n",
    "    W spatial filter to filter EEG\n",
    "    '''\n",
    "    \n",
    "    return (B.T@P)"
   ]
  },
  {
   "cell_type": "code",
   "execution_count": 50,
   "metadata": {},
   "outputs": [],
   "source": [
    "# Iterate over all subject\n",
    "for i in range(1, 4):\n",
    "    subj = subject_counter(i)\n",
    "    \n",
    "    for band in mod_data[subj]['EEG_filtered'].keys():\n",
    "        temp_eigvec = mod_data[subj]['CSP'][band]['S_left']['eigvec']\n",
    "        temp_P = mod_data[subj]['CSP'][band]['whitening']['P']\n",
    "\n",
    "        mod_data[subj]['CSP'][band]['W'] = spatial_filter(temp_eigvec, temp_P)"
   ]
  },
  {
   "cell_type": "code",
   "execution_count": 51,
   "metadata": {},
   "outputs": [],
   "source": [
    "temp = mod_data['subject01']['CSP'][band]['W']"
   ]
  },
  {
   "cell_type": "code",
   "execution_count": 52,
   "metadata": {},
   "outputs": [
    {
     "data": {
      "text/html": [
       "<div>\n",
       "<style scoped>\n",
       "    .dataframe tbody tr th:only-of-type {\n",
       "        vertical-align: middle;\n",
       "    }\n",
       "\n",
       "    .dataframe tbody tr th {\n",
       "        vertical-align: top;\n",
       "    }\n",
       "\n",
       "    .dataframe thead th {\n",
       "        text-align: right;\n",
       "    }\n",
       "</style>\n",
       "<table border=\"1\" class=\"dataframe\">\n",
       "  <thead>\n",
       "    <tr style=\"text-align: right;\">\n",
       "      <th></th>\n",
       "      <th>0</th>\n",
       "      <th>1</th>\n",
       "      <th>2</th>\n",
       "      <th>3</th>\n",
       "      <th>4</th>\n",
       "      <th>5</th>\n",
       "      <th>6</th>\n",
       "      <th>7</th>\n",
       "      <th>8</th>\n",
       "      <th>9</th>\n",
       "      <th>...</th>\n",
       "      <th>12</th>\n",
       "      <th>13</th>\n",
       "      <th>14</th>\n",
       "      <th>15</th>\n",
       "      <th>16</th>\n",
       "      <th>17</th>\n",
       "      <th>18</th>\n",
       "      <th>19</th>\n",
       "      <th>20</th>\n",
       "      <th>21</th>\n",
       "    </tr>\n",
       "  </thead>\n",
       "  <tbody>\n",
       "    <tr>\n",
       "      <th>0</th>\n",
       "      <td>-2.067070</td>\n",
       "      <td>-1.795517</td>\n",
       "      <td>0.674657</td>\n",
       "      <td>-0.600279</td>\n",
       "      <td>-0.531707</td>\n",
       "      <td>0.051805</td>\n",
       "      <td>-3.608875</td>\n",
       "      <td>13.728214</td>\n",
       "      <td>2.541841</td>\n",
       "      <td>-10.669084</td>\n",
       "      <td>...</td>\n",
       "      <td>-0.425582</td>\n",
       "      <td>-2.234119</td>\n",
       "      <td>-5.843472</td>\n",
       "      <td>-1.293616</td>\n",
       "      <td>10.676630</td>\n",
       "      <td>-10.946518</td>\n",
       "      <td>5.049042</td>\n",
       "      <td>-13.617283</td>\n",
       "      <td>8.553094</td>\n",
       "      <td>1.837880</td>\n",
       "    </tr>\n",
       "    <tr>\n",
       "      <th>1</th>\n",
       "      <td>3.211127</td>\n",
       "      <td>3.787021</td>\n",
       "      <td>2.845078</td>\n",
       "      <td>-10.448529</td>\n",
       "      <td>5.912025</td>\n",
       "      <td>4.520385</td>\n",
       "      <td>-0.201067</td>\n",
       "      <td>-3.131450</td>\n",
       "      <td>2.107776</td>\n",
       "      <td>3.001354</td>\n",
       "      <td>...</td>\n",
       "      <td>0.554703</td>\n",
       "      <td>-4.511235</td>\n",
       "      <td>-3.368763</td>\n",
       "      <td>9.981609</td>\n",
       "      <td>-0.044675</td>\n",
       "      <td>1.422170</td>\n",
       "      <td>6.427704</td>\n",
       "      <td>-6.862532</td>\n",
       "      <td>-3.545508</td>\n",
       "      <td>2.428964</td>\n",
       "    </tr>\n",
       "    <tr>\n",
       "      <th>2</th>\n",
       "      <td>0.552975</td>\n",
       "      <td>-2.063569</td>\n",
       "      <td>8.071851</td>\n",
       "      <td>-6.107381</td>\n",
       "      <td>-4.715290</td>\n",
       "      <td>-1.655538</td>\n",
       "      <td>0.547787</td>\n",
       "      <td>2.839704</td>\n",
       "      <td>-4.037424</td>\n",
       "      <td>-0.650903</td>\n",
       "      <td>...</td>\n",
       "      <td>-1.897266</td>\n",
       "      <td>-5.762726</td>\n",
       "      <td>3.309403</td>\n",
       "      <td>7.634191</td>\n",
       "      <td>-16.817554</td>\n",
       "      <td>9.931688</td>\n",
       "      <td>1.589882</td>\n",
       "      <td>-2.605074</td>\n",
       "      <td>-5.322589</td>\n",
       "      <td>3.264397</td>\n",
       "    </tr>\n",
       "    <tr>\n",
       "      <th>3</th>\n",
       "      <td>0.916960</td>\n",
       "      <td>3.301811</td>\n",
       "      <td>-1.701912</td>\n",
       "      <td>-7.291251</td>\n",
       "      <td>8.600569</td>\n",
       "      <td>-1.170277</td>\n",
       "      <td>4.354018</td>\n",
       "      <td>-4.512817</td>\n",
       "      <td>-8.844287</td>\n",
       "      <td>11.326760</td>\n",
       "      <td>...</td>\n",
       "      <td>-3.514433</td>\n",
       "      <td>-1.926884</td>\n",
       "      <td>8.258898</td>\n",
       "      <td>-7.649393</td>\n",
       "      <td>5.699625</td>\n",
       "      <td>7.526022</td>\n",
       "      <td>4.220684</td>\n",
       "      <td>0.045373</td>\n",
       "      <td>-3.332242</td>\n",
       "      <td>-2.371642</td>\n",
       "    </tr>\n",
       "    <tr>\n",
       "      <th>4</th>\n",
       "      <td>4.530817</td>\n",
       "      <td>-4.483058</td>\n",
       "      <td>0.696202</td>\n",
       "      <td>-1.169662</td>\n",
       "      <td>-9.148161</td>\n",
       "      <td>1.393574</td>\n",
       "      <td>-1.243655</td>\n",
       "      <td>7.320753</td>\n",
       "      <td>-6.916603</td>\n",
       "      <td>12.311359</td>\n",
       "      <td>...</td>\n",
       "      <td>2.384958</td>\n",
       "      <td>-3.037356</td>\n",
       "      <td>13.978873</td>\n",
       "      <td>-14.547555</td>\n",
       "      <td>7.692809</td>\n",
       "      <td>-3.559007</td>\n",
       "      <td>-2.550236</td>\n",
       "      <td>-0.107876</td>\n",
       "      <td>-6.187102</td>\n",
       "      <td>4.079949</td>\n",
       "    </tr>\n",
       "  </tbody>\n",
       "</table>\n",
       "<p>5 rows × 22 columns</p>\n",
       "</div>"
      ],
      "text/plain": [
       "         0         1         2          3         4         5         6   \\\n",
       "0 -2.067070 -1.795517  0.674657  -0.600279 -0.531707  0.051805 -3.608875   \n",
       "1  3.211127  3.787021  2.845078 -10.448529  5.912025  4.520385 -0.201067   \n",
       "2  0.552975 -2.063569  8.071851  -6.107381 -4.715290 -1.655538  0.547787   \n",
       "3  0.916960  3.301811 -1.701912  -7.291251  8.600569 -1.170277  4.354018   \n",
       "4  4.530817 -4.483058  0.696202  -1.169662 -9.148161  1.393574 -1.243655   \n",
       "\n",
       "          7         8          9   ...        12        13         14  \\\n",
       "0  13.728214  2.541841 -10.669084  ... -0.425582 -2.234119  -5.843472   \n",
       "1  -3.131450  2.107776   3.001354  ...  0.554703 -4.511235  -3.368763   \n",
       "2   2.839704 -4.037424  -0.650903  ... -1.897266 -5.762726   3.309403   \n",
       "3  -4.512817 -8.844287  11.326760  ... -3.514433 -1.926884   8.258898   \n",
       "4   7.320753 -6.916603  12.311359  ...  2.384958 -3.037356  13.978873   \n",
       "\n",
       "          15         16         17        18         19        20        21  \n",
       "0  -1.293616  10.676630 -10.946518  5.049042 -13.617283  8.553094  1.837880  \n",
       "1   9.981609  -0.044675   1.422170  6.427704  -6.862532 -3.545508  2.428964  \n",
       "2   7.634191 -16.817554   9.931688  1.589882  -2.605074 -5.322589  3.264397  \n",
       "3  -7.649393   5.699625   7.526022  4.220684   0.045373 -3.332242 -2.371642  \n",
       "4 -14.547555   7.692809  -3.559007 -2.550236  -0.107876 -6.187102  4.079949  \n",
       "\n",
       "[5 rows x 22 columns]"
      ]
     },
     "execution_count": 52,
     "metadata": {},
     "output_type": "execute_result"
    }
   ],
   "source": [
    "dframe(temp).head()"
   ]
  },
  {
   "cell_type": "markdown",
   "metadata": {},
   "source": [
    "# Feature Vector Train"
   ]
  },
  {
   "cell_type": "code",
   "execution_count": 53,
   "metadata": {},
   "outputs": [],
   "source": [
    "# Create new keys for trainning and test feature vector\n",
    "for i in range(1, 4):\n",
    "    subj = subject_counter(i)\n",
    "    mod_data[subj]['train'] = {}\n",
    "    mod_data[subj]['test'] = {}\n",
    "    \n",
    "    for band in mod_data[subj]['EEG_filtered'].keys():\n",
    "        mod_data[subj]['train'][band] = {}\n",
    "        mod_data[subj]['test'][band] = {}       "
   ]
  },
  {
   "cell_type": "code",
   "execution_count": 54,
   "metadata": {},
   "outputs": [],
   "source": [
    "# Select number of filter\n",
    "m = 2"
   ]
  },
  {
   "cell_type": "code",
   "execution_count": 55,
   "metadata": {},
   "outputs": [],
   "source": [
    "def compute_Z(W, E, m):\n",
    "    '''\n",
    "    Will compute the Z\n",
    "    Z = W @ E, \n",
    "    \n",
    "    E is in the shape of N x M, N is number of electrodes, M is sample\n",
    "    In application, E has nth trial, so there will be n numbers of Z\n",
    "    \n",
    "    Z, in each trial will have dimension of m x M, \n",
    "    where m is the first and last m rows of W, corresponds to smallest and largest eigenvalues\n",
    "    '''\n",
    "    Z = []\n",
    "    \n",
    "    W = np.delete(W, np.s_[m:-m:], 0)\n",
    "    \n",
    "    for i in range(E.shape[0]):\n",
    "        Z.append(W @ E[i])\n",
    "    \n",
    "    return np.array(Z)"
   ]
  },
  {
   "cell_type": "code",
   "execution_count": 56,
   "metadata": {},
   "outputs": [],
   "source": [
    "def feat_vector(Z):\n",
    "    '''\n",
    "    Will compute the feature vector of Z matrix\n",
    "    \n",
    "    INPUT:\n",
    "    Z : projected EEG shape of T x N x S\n",
    "    \n",
    "    OUTPUT:\n",
    "    feat : feature vector shape of T x m\n",
    "    \n",
    "    T = trial\n",
    "    N = channel\n",
    "    S = sample\n",
    "    m = number of filter\n",
    "    '''\n",
    "    \n",
    "    feat = []\n",
    "    \n",
    "    for i in range(Z.shape[0]):\n",
    "        var = np.var(Z[i], ddof=1, axis=1)\n",
    "        varsum = np.sum(var)\n",
    "        \n",
    "        feat.append(np.log10(var/varsum))\n",
    "        \n",
    "    return np.array(feat)"
   ]
  },
  {
   "cell_type": "code",
   "execution_count": 57,
   "metadata": {},
   "outputs": [
    {
     "data": {
      "text/plain": [
       "dict_keys(['cov_left', 'cov_right', 'cov_comp', 'whitening', 'S_left', 'S_right', 'W'])"
      ]
     },
     "execution_count": 57,
     "metadata": {},
     "output_type": "execute_result"
    }
   ],
   "source": [
    "mod_data['subject01']['CSP']['04_08'].keys()"
   ]
  },
  {
   "cell_type": "code",
   "execution_count": 58,
   "metadata": {},
   "outputs": [
    {
     "data": {
      "text/plain": [
       "dict_keys(['EEG_all', 'EEG_left', 'EEG_right', 'EEG_left_train', 'EEG_left_test', 'EEG_right_train', 'EEG_right_test'])"
      ]
     },
     "execution_count": 58,
     "metadata": {},
     "output_type": "execute_result"
    }
   ],
   "source": [
    "mod_data['subject01']['EEG_filtered'][band].keys()"
   ]
  },
  {
   "cell_type": "code",
   "execution_count": 59,
   "metadata": {},
   "outputs": [],
   "source": [
    "# Iterate over all subjects\n",
    "for i in range(1, 4):\n",
    "    subj = subject_counter(i)\n",
    "    \n",
    "    for band in mod_data[subj]['EEG_filtered'].keys():\n",
    "        temp_W = mod_data[subj]['CSP'][band]['W']\n",
    "        temp_EEG_left = mod_data[subj]['EEG_filtered'][band]['EEG_left_train']\n",
    "        temp_EEG_right = mod_data[subj]['EEG_filtered'][band]['EEG_right_train']\n",
    "\n",
    "        # LEFT\n",
    "        mod_data[subj]['train'][band]['Z_left'] = compute_Z(temp_W, temp_EEG_left, m)\n",
    "        mod_data[subj]['train'][band]['feat_left'] = feat_vector(mod_data[subj]['train'][band]['Z_left'])\n",
    "\n",
    "        left_label = np.zeros([len(mod_data[subj]['train'][band]['feat_left']), 1])\n",
    "        \n",
    "        # RIGHT\n",
    "        mod_data[subj]['train'][band]['Z_right'] = compute_Z(temp_W, temp_EEG_right, m)\n",
    "        mod_data[subj]['train'][band]['feat_right'] = feat_vector(mod_data[subj]['train'][band]['Z_right'])\n",
    "        \n",
    "        right_label = np.ones([len(mod_data[subj]['train'][band]['feat_right']), 1])\n",
    "        \n",
    "        left  = np.c_[mod_data[subj]['train'][band]['feat_left'], left_label]\n",
    "        right  = np.c_[mod_data[subj]['train'][band]['feat_right'], right_label] \n",
    "        \n",
    "        mod_data[subj]['train'][band]['feat_train'] = np.vstack([left, right])\n",
    "        \n",
    "        np.random.shuffle(mod_data[subj]['train'][band]['feat_train'])"
   ]
  },
  {
   "cell_type": "markdown",
   "metadata": {},
   "source": [
    "## Merging Train Feature of All Bandwidth\n",
    "Merging all feature of each bandpass horizontally  \n",
    "This will result in an array with shape of T x (9 * 2m) without true label  \n",
    "where m is the number of filter, and T is number of trials"
   ]
  },
  {
   "cell_type": "code",
   "execution_count": 60,
   "metadata": {},
   "outputs": [
    {
     "data": {
      "text/plain": [
       "(58, 4)"
      ]
     },
     "execution_count": 60,
     "metadata": {},
     "output_type": "execute_result"
    }
   ],
   "source": [
    "mod_data['subject01']['train']['04_08']['feat_left'].shape"
   ]
  },
  {
   "cell_type": "code",
   "execution_count": 57,
   "metadata": {},
   "outputs": [],
   "source": [
    "# Iterate over all subjects\n",
    "for i in range(1, 4):\n",
    "    subj = subject_counter(i)\n",
    "    \n",
    "    feat_left_all = []\n",
    "    feat_right_all = []\n",
    "    \n",
    "    for band in mod_data[subj]['EEG_filtered'].keys():\n",
    "        # Access LEFT each band\n",
    "        feat_left = mod_data[subj]['train'][band]['feat_left']\n",
    "\n",
    "        feat_left_all.append(feat_left)\n",
    "        \n",
    "        # Access RIGHT each band\n",
    "        feat_right = mod_data[subj]['train'][band]['feat_right']\n",
    "\n",
    "        feat_right_all.append(feat_right)        \n",
    "        \n",
    "    # MERGING (Need to find more efficient method)\n",
    "    # LEFT\n",
    "    merge_left = np.zeros(feat_left_all[0].shape)\n",
    "\n",
    "    for i in feat_left_all:\n",
    "        merge_left = np.concatenate([merge_left, i], axis=1)\n",
    "    \n",
    "    # Delete initial zeros\n",
    "    merge_left = np.delete(merge_left, np.s_[:2*m], axis=1)\n",
    "    \n",
    "    # RIGHT\n",
    "    merge_right = np.zeros(feat_right_all[0].shape)\n",
    "\n",
    "    for i in feat_right_all:\n",
    "        merge_right = np.concatenate([merge_right, i], axis=1)\n",
    "    \n",
    "    # Delete initial zeros\n",
    "    merge_right = np.delete(merge_right, np.s_[:2*m], axis=1)\n",
    "    \n",
    "    # TRUE LABEL\n",
    "    true_left = np.zeros([merge_left.shape[0], 1])\n",
    "    true_right = np.ones([merge_right.shape[0], 1])\n",
    "    \n",
    "    # FEATURE + TRUE LABEL\n",
    "    left = np.hstack([merge_left, true_left])\n",
    "    right = np.hstack([merge_right, true_right])    \n",
    "    \n",
    "    # MERGE LEFT AND RIGHT\n",
    "    train_feat = np.vstack([left, right])\n",
    "    \n",
    "    np.random.shuffle(train_feat)\n",
    "    \n",
    "    mod_data[subj]['train']['all_band'] = train_feat"
   ]
  },
  {
   "cell_type": "code",
   "execution_count": 58,
   "metadata": {},
   "outputs": [],
   "source": [
    "# Sanity check\n",
    "assert (mod_data['subject01']['train']['all_band'].shape == (116, 9*2*m + 1))"
   ]
  },
  {
   "cell_type": "markdown",
   "metadata": {},
   "source": [
    "## Mutual Based Information (MI) to Select Most Informative Band"
   ]
  },
  {
   "cell_type": "code",
   "execution_count": 59,
   "metadata": {},
   "outputs": [],
   "source": [
    "from sklearn.feature_selection import mutual_info_classif\n",
    "from sklearn.feature_selection import SelectKBest"
   ]
  },
  {
   "cell_type": "code",
   "execution_count": 60,
   "metadata": {},
   "outputs": [],
   "source": [
    "for i in range(1, 4):\n",
    "    subj = subject_counter(i)\n",
    "    \n",
    "    X_train = mod_data[subj]['train']['all_band'][:, :-1]\n",
    "    y_train = mod_data[subj]['train']['all_band'][:, -1]\n",
    "    \n",
    "    # New dictionary to store result\n",
    "    mod_data[subj]['train']['mutual'] = {}\n",
    "    \n",
    "    # Use mutual information to find 4 most informative feature\n",
    "    select = SelectKBest(mutual_info_classif, k = 4).fit(X_train, y_train)\n",
    "    mod_data[subj]['train']['mutual']['X'] = X_train[:, select.get_support()]\n",
    "    mod_data[subj]['train']['mutual']['y'] = y_train    "
   ]
  },
  {
   "cell_type": "markdown",
   "metadata": {},
   "source": [
    "# Feature Vector Test"
   ]
  },
  {
   "cell_type": "code",
   "execution_count": 61,
   "metadata": {},
   "outputs": [],
   "source": [
    "# Seed to fix randomization\n",
    "np.random.seed(42)\n",
    "\n",
    "# Iterate over all subjects\n",
    "for i in range(1, 4):\n",
    "    subj = subject_counter(i)\n",
    "    \n",
    "    for band in mod_data[subj]['EEG_filtered'].keys():\n",
    "        temp_W = mod_data[subj]['CSP'][band]['W']\n",
    "        temp_EEG_left = mod_data[subj]['EEG_filtered'][band]['EEG_left_test']\n",
    "        temp_EEG_right = mod_data[subj]['EEG_filtered'][band]['EEG_right_test']\n",
    "\n",
    "        # LEFT\n",
    "        mod_data[subj]['test'][band]['Z_left'] = compute_Z(temp_W, temp_EEG_left, m)\n",
    "        mod_data[subj]['test'][band]['feat_left'] = feat_vector(mod_data[subj]['test'][band]['Z_left'])\n",
    "\n",
    "        left_label = np.zeros([len(mod_data[subj]['test'][band]['feat_left']), 1])\n",
    "        \n",
    "        # RIGHT\n",
    "        mod_data[subj]['test'][band]['Z_right'] = compute_Z(temp_W, temp_EEG_right, m)\n",
    "        mod_data[subj]['test'][band]['feat_right'] = feat_vector(mod_data[subj]['test'][band]['Z_right'])\n",
    "                          \n",
    "        right_label = np.ones([len(mod_data[subj]['test'][band]['feat_right']), 1])\n",
    "\n",
    "        # MERGING LEFT, RIGHT\n",
    "        left  = np.c_[mod_data[subj]['test'][band]['feat_left'], left_label]\n",
    "        right  = np.c_[mod_data[subj]['test'][band]['feat_right'], right_label] \n",
    "        \n",
    "        mod_data[subj]['test'][band]['feat_test'] = np.vstack([left, right])\n",
    "        \n",
    "        np.random.shuffle(mod_data[subj]['test'][band]['feat_test'])"
   ]
  },
  {
   "cell_type": "markdown",
   "metadata": {},
   "source": [
    "## Merging Train Feature of All Bandwidth"
   ]
  },
  {
   "cell_type": "code",
   "execution_count": 62,
   "metadata": {},
   "outputs": [],
   "source": [
    "# Iterate over all subjects\n",
    "for i in range(1, 4):\n",
    "    subj = subject_counter(i)\n",
    "    \n",
    "    feat_left_all = []\n",
    "    feat_right_all = []\n",
    "    \n",
    "    for band in mod_data[subj]['EEG_filtered'].keys():\n",
    "        # Access LEFT each band\n",
    "        feat_left = mod_data[subj]['test'][band]['feat_left']\n",
    "\n",
    "        feat_left_all.append(feat_left)\n",
    "        \n",
    "        # Access RIGHT each band\n",
    "        feat_right = mod_data[subj]['test'][band]['feat_right']\n",
    "\n",
    "        feat_right_all.append(feat_right)        \n",
    "        \n",
    "    \n",
    "    # MERGING (Need to find more efficient method)\n",
    "    # LEFT\n",
    "    merge_left = np.zeros(feat_left_all[0].shape)\n",
    "\n",
    "    for i in feat_left_all:\n",
    "        merge_left = np.concatenate([merge_left, i], axis=1)\n",
    "    \n",
    "    # Delete initial zeros\n",
    "    merge_left = np.delete(merge_left, np.s_[:2*m], axis=1)\n",
    "    \n",
    "    # RIGHT\n",
    "    merge_right = np.zeros(feat_right_all[0].shape)\n",
    "\n",
    "    for i in feat_right_all:\n",
    "        merge_right = np.concatenate([merge_right, i], axis=1)\n",
    "    \n",
    "    # Delete initial zeros\n",
    "    merge_right = np.delete(merge_right, np.s_[:2*m], axis=1)\n",
    "    \n",
    "    # TRUE LABEL\n",
    "    true_left = np.zeros([merge_left.shape[0], 1])\n",
    "    true_right = np.ones([merge_right.shape[0], 1])\n",
    "    \n",
    "    # FEATURE + TRUE LABEL\n",
    "    left = np.hstack([merge_left, true_left])\n",
    "    right = np.hstack([merge_right, true_right])    \n",
    "    \n",
    "    # MERGE LEFT AND RIGHT\n",
    "    test_feat = np.vstack([left, right])\n",
    "    \n",
    "    np.random.shuffle(test_feat)\n",
    "    \n",
    "    mod_data[subj]['test']['all_band'] = test_feat"
   ]
  },
  {
   "cell_type": "code",
   "execution_count": 63,
   "metadata": {},
   "outputs": [
    {
     "data": {
      "text/plain": [
       "(28, 37)"
      ]
     },
     "execution_count": 63,
     "metadata": {},
     "output_type": "execute_result"
    }
   ],
   "source": [
    "mod_data['subject01']['test']['all_band'].shape"
   ]
  },
  {
   "cell_type": "markdown",
   "metadata": {},
   "source": [
    "## Mutual Based Information (MI) to Select Most Informative Band"
   ]
  },
  {
   "cell_type": "code",
   "execution_count": 64,
   "metadata": {},
   "outputs": [],
   "source": [
    "for i in range(1, 4):\n",
    "    subj = subject_counter(i)\n",
    "    \n",
    "    X_test = mod_data[subj]['test']['all_band'][:, :-1]\n",
    "    y_test = mod_data[subj]['test']['all_band'][:, -1]\n",
    "    \n",
    "    # New dictionary to store result\n",
    "    mod_data[subj]['test']['mutual'] = {}\n",
    "    \n",
    "    # Use mutual information to find 4 most informative feature\n",
    "    select = SelectKBest(mutual_info_classif, k = 4).fit(X_test, y_test)\n",
    "    mod_data[subj]['test']['mutual']['X'] = X_test[:, select.get_support()]\n",
    "    mod_data[subj]['test']['mutual']['y'] = y_test    "
   ]
  },
  {
   "cell_type": "markdown",
   "metadata": {},
   "source": [
    "# Classification"
   ]
  },
  {
   "cell_type": "code",
   "execution_count": 65,
   "metadata": {},
   "outputs": [],
   "source": [
    "from sklearn.svm import SVC\n",
    "from sklearn.model_selection import cross_val_score, GridSearchCV, KFold"
   ]
  },
  {
   "cell_type": "code",
   "execution_count": 66,
   "metadata": {},
   "outputs": [],
   "source": [
    "# Define model\n",
    "model = SVC(gamma='scale')"
   ]
  },
  {
   "cell_type": "code",
   "execution_count": 67,
   "metadata": {},
   "outputs": [
    {
     "data": {
      "text/plain": [
       "{'C': 1.0,\n",
       " 'cache_size': 200,\n",
       " 'class_weight': None,\n",
       " 'coef0': 0.0,\n",
       " 'decision_function_shape': 'ovr',\n",
       " 'degree': 3,\n",
       " 'gamma': 'scale',\n",
       " 'kernel': 'rbf',\n",
       " 'max_iter': -1,\n",
       " 'probability': False,\n",
       " 'random_state': None,\n",
       " 'shrinking': True,\n",
       " 'tol': 0.001,\n",
       " 'verbose': False}"
      ]
     },
     "execution_count": 67,
     "metadata": {},
     "output_type": "execute_result"
    }
   ],
   "source": [
    "model.get_params()"
   ]
  },
  {
   "cell_type": "markdown",
   "metadata": {},
   "source": [
    "## Evaluate Model Performance on Train Data"
   ]
  },
  {
   "cell_type": "code",
   "execution_count": 68,
   "metadata": {},
   "outputs": [
    {
     "name": "stdout",
     "output_type": "stream",
     "text": [
      "Processing for subject01\n",
      "Processing for subject02\n",
      "Processing for subject03\n"
     ]
    }
   ],
   "source": [
    "# Iterate over each subject\n",
    "eval_acc = []\n",
    "eval_std = []\n",
    "\n",
    "for i in range(1, 4):\n",
    "    subj = subject_counter(i)\n",
    "    \n",
    "    print('Processing for {}'.format(subj))\n",
    "    X_train = mod_data[subj]['train']['mutual']['X']\n",
    "    y_train = mod_data[subj]['train']['mutual']['y']\n",
    "    \n",
    "    eval_acc.append(cross_val_score(model, X_train, y_train, cv=5).mean()*100)\n",
    "    eval_std.append(cross_val_score(model, X_train, y_train, cv=5).std()*100)"
   ]
  },
  {
   "cell_type": "code",
   "execution_count": 69,
   "metadata": {},
   "outputs": [
    {
     "data": {
      "text/plain": [
       "[91.43939393939394, 81.96969696969697, 98.18181818181819]"
      ]
     },
     "execution_count": 69,
     "metadata": {},
     "output_type": "execute_result"
    }
   ],
   "source": [
    "eval_acc"
   ]
  },
  {
   "cell_type": "code",
   "execution_count": 70,
   "metadata": {},
   "outputs": [],
   "source": [
    "# Necessary variable to label x axis\n",
    "subject=[]\n",
    "for i in range(1, ns):\n",
    "    subject.append(subject_counter(i))"
   ]
  },
  {
   "cell_type": "code",
   "execution_count": 71,
   "metadata": {},
   "outputs": [
    {
     "data": {
      "image/png": "[encoded data removed]",
      "text/plain": [
       "<Figure size 504x360 with 1 Axes>"
      ]
     },
     "metadata": {
      "needs_background": "light"
     },
     "output_type": "display_data"
    },
    {
     "name": "stdout",
     "output_type": "stream",
     "text": [
      "====== Accuracy for all subjects ======\n",
      "Subject01 : 91.44 % +/- 2.53\n",
      "Subject02 : 81.97 % +/- 4.89\n",
      "Subject03 : 98.18 % +/- 3.64\n"
     ]
    }
   ],
   "source": [
    "fig, ax = plt.subplots(figsize=(7, 5))\n",
    "plt.rcParams.update({'font.size': 12})\n",
    "ax.set_title('Accuracy (%)')\n",
    "ax.bar(np.arange(1, 4), eval_acc, color=\"#ffb152\", yerr=eval_std, capsize=5)\n",
    "ax.set(xticks=np.arange(1, 4), xlabel='Subject', \n",
    "       yticks=np.arange(0, 101, step=10), ylabel='Accuracy',\n",
    "       title='5-fold Train Cross Validation Result')\n",
    "ax.grid(axis='y', alpha=0.5)\n",
    "plt.savefig('5fold_train_result.jpg')\n",
    "plt.show()\n",
    "\n",
    "# Print each subject accuracy\n",
    "print(\"====== Accuracy for all subjects ======\")\n",
    "for i in range(3):\n",
    "    print(\"Subject{:02d} : {:.2f} % +/- {:.2f}\".format(i+1, eval_acc[i], eval_std[i]))"
   ]
  },
  {
   "cell_type": "markdown",
   "metadata": {},
   "source": [
    "## Result on Test Data\n",
    "Based on initial observation, svc model performed well on train data. Thus we will proceed to use the current model to evaluate on test data "
   ]
  },
  {
   "cell_type": "code",
   "execution_count": 72,
   "metadata": {},
   "outputs": [],
   "source": [
    "# Blank list to store accuracy values\n",
    "train_score = []\n",
    "test_score = []\n",
    "\n",
    "for i in range(1, 4):\n",
    "    subj = subject_counter(i)\n",
    "    \n",
    "    # Prepare train and test data\n",
    "    data_train = mod_data[subj]['train']['mutual']\n",
    "    X_train = data_train['X']\n",
    "    y_train = data_train['y']\n",
    "    \n",
    "    data_test = mod_data[subj]['test']['mutual']\n",
    "    X_test = data_train['X']\n",
    "    y_test = data_train['y']\n",
    "    \n",
    "    # Training the model + train accuracy\n",
    "    model.fit(X_train, y_train)\n",
    "    tr_score = model.score(X_train, y_train)*100\n",
    "    te_score = model.score(X_test, y_test)*100\n",
    "    \n",
    "    train_score.append(tr_score)\n",
    "    test_score.append(te_score)"
   ]
  },
  {
   "cell_type": "code",
   "execution_count": 73,
   "metadata": {},
   "outputs": [
    {
     "data": {
      "image/png": "[encoded data removed]",
      "text/plain": [
       "<Figure size 504x360 with 1 Axes>"
      ]
     },
     "metadata": {
      "needs_background": "light"
     },
     "output_type": "display_data"
    },
    {
     "name": "stdout",
     "output_type": "stream",
     "text": [
      "====== Test Accuracy for all subjects ======\n",
      "Subject01 : 94.83 %\n",
      "Subject02 : 88.79 %\n",
      "Subject03 : 98.28 %\n"
     ]
    }
   ],
   "source": [
    "fig, ax = plt.subplots(figsize=(7, 5))\n",
    "plt.rcParams.update({'font.size': 12})\n",
    "ax.set_title('Accuracy (%)')\n",
    "ax.bar(np.arange(1, 4), test_score, color=\"#3ebbed\")\n",
    "ax.set(xticks=np.arange(1, 4), xlabel='Subject', \n",
    "       yticks=np.arange(0, 101, step=10), ylabel='Accuracy',\n",
    "       title='5-fold Test Cross Validation Result')\n",
    "ax.grid(axis='y', alpha=0.5)\n",
    "plt.savefig('5fold_test_result.jpg')\n",
    "plt.show()\n",
    "\n",
    "# Print each subject accuracy\n",
    "print(\"====== Test Accuracy for all subjects ======\")\n",
    "for i in range(3):\n",
    "    print(\"Subject{:02d} : {:.2f} %\".format(i+1, test_score[i]))"
   ]
  }
 ],
 "metadata": {
  "kernelspec": {
   "display_name": "mlbase1",
   "language": "python",
   "name": "python3"
  },
  "language_info": {
   "codemirror_mode": {
    "name": "ipython",
    "version": 3
   },
   "file_extension": ".py",
   "mimetype": "text/x-python",
   "name": "python",
   "nbconvert_exporter": "python",
   "pygments_lexer": "ipython3",
   "version": "3.8.18"
  }
 },
 "nbformat": 4,
 "nbformat_minor": 4
}
